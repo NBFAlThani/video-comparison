{
 "cells": [
  {
   "cell_type": "code",
   "execution_count": 40,
   "metadata": {},
   "outputs": [],
   "source": [
    "import pandas as pd\n",
    "import os\n",
    "import numpy as np\n",
    "from sklearn.metrics import accuracy_score"
   ]
  },
  {
   "cell_type": "code",
   "execution_count": 41,
   "metadata": {},
   "outputs": [
    {
     "data": {
      "text/plain": [
       "'\\nin order to compare accuracy of our algorithm with that of\\nthe ground truth, we need two inputs\\n\\ninput1=list of reference videos\\ninput2=list of archive videos\\n\\n\\n'"
      ]
     },
     "execution_count": 41,
     "metadata": {},
     "output_type": "execute_result"
    }
   ],
   "source": [
    "'''\n",
    "in order to compare accuracy of our algorithm with that of\n",
    "the ground truth, we need two inputs\n",
    "\n",
    "input1=list of reference videos\n",
    "input2=list of archive videos\n",
    "\n",
    "\n",
    "'''"
   ]
  },
  {
   "cell_type": "code",
   "execution_count": 42,
   "metadata": {},
   "outputs": [
    {
     "name": "stdout",
     "output_type": "stream",
     "text": [
      "['/ddn/gfxhome/asislam25/projects/other_misc_projects/video_copy/intermediate/keyframes/c05_202102080735', '/ddn/gfxhome/asislam25/projects/other_misc_projects/video_copy/intermediate/keyframes/c03_202102071755', '/ddn/gfxhome/asislam25/projects/other_misc_projects/video_copy/intermediate/keyframes/c05_202101300845', '/ddn/gfxhome/asislam25/projects/other_misc_projects/video_copy/intermediate/keyframes/c01_202102140630', '/ddn/gfxhome/asislam25/projects/other_misc_projects/video_copy/intermediate/keyframes/c05_202102012240', '/ddn/gfxhome/asislam25/projects/other_misc_projects/video_copy/intermediate/keyframes/c01_202102260630', '/ddn/gfxhome/asislam25/projects/other_misc_projects/video_copy/intermediate/keyframes/c01_202101301300', '/ddn/gfxhome/asislam25/projects/other_misc_projects/video_copy/intermediate/keyframes/c05_202102010750', '/ddn/gfxhome/asislam25/projects/other_misc_projects/video_copy/intermediate/keyframes/c01_202101301200', '/ddn/gfxhome/asislam25/projects/other_misc_projects/video_copy/intermediate/keyframes/c02_202101301300', '/ddn/gfxhome/asislam25/projects/other_misc_projects/video_copy/intermediate/keyframes/c02_202102120045', '/ddn/gfxhome/asislam25/projects/other_misc_projects/video_copy/intermediate/keyframes/c07_202102141735', '/ddn/gfxhome/asislam25/projects/other_misc_projects/video_copy/intermediate/keyframes/c05_202101302220', '/ddn/gfxhome/asislam25/projects/other_misc_projects/video_copy/intermediate/keyframes/c05_202101311955', '/ddn/gfxhome/asislam25/projects/other_misc_projects/video_copy/intermediate/keyframes/c08_202102021331', '/ddn/gfxhome/asislam25/projects/other_misc_projects/video_copy/intermediate/keyframes/c01_202101300810', '/ddn/gfxhome/asislam25/projects/other_misc_projects/video_copy/intermediate/keyframes/c05_202101301900', '/ddn/gfxhome/asislam25/projects/other_misc_projects/video_copy/intermediate/keyframes/c03_202101301615', '/ddn/gfxhome/asislam25/projects/other_misc_projects/video_copy/intermediate/keyframes/c01_202101300630', '/ddn/gfxhome/asislam25/projects/other_misc_projects/video_copy/intermediate/keyframes/c06_202102010850', '/ddn/gfxhome/asislam25/projects/other_misc_projects/video_copy/intermediate/keyframes/c01_202101301250', '/ddn/gfxhome/asislam25/projects/other_misc_projects/video_copy/intermediate/keyframes/c01_202101311605', '/ddn/gfxhome/asislam25/projects/other_misc_projects/video_copy/intermediate/keyframes/c05_202101311340', '/ddn/gfxhome/asislam25/projects/other_misc_projects/video_copy/intermediate/keyframes/c03_202102031825', '/ddn/gfxhome/asislam25/projects/other_misc_projects/video_copy/intermediate/keyframes/c01_202101301255', '/ddn/gfxhome/asislam25/projects/other_misc_projects/video_copy/intermediate/keyframes/c02_202102131320', '/ddn/gfxhome/asislam25/projects/other_misc_projects/video_copy/intermediate/keyframes/c03_202101300720', '/ddn/gfxhome/asislam25/projects/other_misc_projects/video_copy/intermediate/keyframes/c03_202102021700', '/ddn/gfxhome/asislam25/projects/other_misc_projects/video_copy/intermediate/keyframes/c01_202102141015', '/ddn/gfxhome/asislam25/projects/other_misc_projects/video_copy/intermediate/keyframes/c06_202102052105'] 30\n"
     ]
    }
   ],
   "source": [
    "reference_locations=[]\n",
    "path_to_ref=\"/ddn/gfxhome/asislam25/projects/other_misc_projects/video_copy/data/references/\"\n",
    "path_to_ref_kf=\"/ddn/gfxhome/asislam25/projects/other_misc_projects/video_copy/intermediate/keyframes/\"\n",
    "for f in os.listdir(path_to_ref):\n",
    "    f=f.split(\".\")[0]\n",
    "    reference_locations.append(path_to_ref_kf+f)\n",
    "    \n",
    "print(reference_locations,len(reference_locations))"
   ]
  },
  {
   "cell_type": "code",
   "execution_count": 43,
   "metadata": {},
   "outputs": [
    {
     "name": "stdout",
     "output_type": "stream",
     "text": [
      "['/ddn/gfxhome/asislam25/projects/other_misc_projects/video_copy/intermediate/keyframes/c09_20210210135939_C2', '/ddn/gfxhome/asislam25/projects/other_misc_projects/video_copy/intermediate/keyframes/c01_20210203062229_C4', '/ddn/gfxhome/asislam25/projects/other_misc_projects/video_copy/intermediate/keyframes/c01_20210205062047_C4', '/ddn/gfxhome/asislam25/projects/other_misc_projects/video_copy/intermediate/keyframes/c09_20210222174848_C1', '/ddn/gfxhome/asislam25/projects/other_misc_projects/video_copy/intermediate/keyframes/c09_20210227162920_C1', '/ddn/gfxhome/asislam25/projects/other_misc_projects/video_copy/intermediate/keyframes/c01_20210210081914_C3', '/ddn/gfxhome/asislam25/projects/other_misc_projects/video_copy/intermediate/keyframes/c01_20210131062134_C1', '/ddn/gfxhome/asislam25/projects/other_misc_projects/video_copy/intermediate/keyframes/c09_20210224174314_C2', '/ddn/gfxhome/asislam25/projects/other_misc_projects/video_copy/intermediate/keyframes/c05_20210203202303_C1', '/ddn/gfxhome/asislam25/projects/other_misc_projects/video_copy/intermediate/keyframes/c01_20210130210232_C4', '/ddn/gfxhome/asislam25/projects/other_misc_projects/video_copy/intermediate/keyframes/c09_20210221115250_C2', '/ddn/gfxhome/asislam25/projects/other_misc_projects/video_copy/intermediate/keyframes/c09_20210227211344_C1', '/ddn/gfxhome/asislam25/projects/other_misc_projects/video_copy/intermediate/keyframes/c09_20210225175756_C2', '/ddn/gfxhome/asislam25/projects/other_misc_projects/video_copy/intermediate/keyframes/c01_20210130124435_C1', '/ddn/gfxhome/asislam25/projects/other_misc_projects/video_copy/intermediate/keyframes/c01_20210131205546_C2', '/ddn/gfxhome/asislam25/projects/other_misc_projects/video_copy/intermediate/keyframes/c09_20210228105604_C4', '/ddn/gfxhome/asislam25/projects/other_misc_projects/video_copy/intermediate/keyframes/c09_20210228124351_C2', '/ddn/gfxhome/asislam25/projects/other_misc_projects/video_copy/intermediate/keyframes/c01_20210130063213_C2', '/ddn/gfxhome/asislam25/projects/other_misc_projects/video_copy/intermediate/keyframes/c01_20210202125721_C4', '/ddn/gfxhome/asislam25/projects/other_misc_projects/video_copy/intermediate/keyframes/c09_20210224010425_C1', '/ddn/gfxhome/asislam25/projects/other_misc_projects/video_copy/intermediate/keyframes/c09_20210228114527_C1', '/ddn/gfxhome/asislam25/projects/other_misc_projects/video_copy/intermediate/keyframes/c01_20210130115216_C3', '/ddn/gfxhome/asislam25/projects/other_misc_projects/video_copy/intermediate/keyframes/c09_20210228095443_C1', '/ddn/gfxhome/asislam25/projects/other_misc_projects/video_copy/intermediate/keyframes/c05_20210205081528_C1', '/ddn/gfxhome/asislam25/projects/other_misc_projects/video_copy/intermediate/keyframes/c01_20210202195259_C1', '/ddn/gfxhome/asislam25/projects/other_misc_projects/video_copy/intermediate/keyframes/c01_20210131125108_C2', '/ddn/gfxhome/asislam25/projects/other_misc_projects/video_copy/intermediate/keyframes/c01_20210202083021_C1', '/ddn/gfxhome/asislam25/projects/other_misc_projects/video_copy/intermediate/keyframes/c09_20210222150519_C3', '/ddn/gfxhome/asislam25/projects/other_misc_projects/video_copy/intermediate/keyframes/c09_20210223175523_C3', '/ddn/gfxhome/asislam25/projects/other_misc_projects/video_copy/intermediate/keyframes/c01_20210130124857_C2', '/ddn/gfxhome/asislam25/projects/other_misc_projects/video_copy/intermediate/keyframes/c01_20210131125922_C2', '/ddn/gfxhome/asislam25/projects/other_misc_projects/video_copy/intermediate/keyframes/c09_20210226175156_C1', '/ddn/gfxhome/asislam25/projects/other_misc_projects/video_copy/intermediate/keyframes/c09_20210222140438_C2', '/ddn/gfxhome/asislam25/projects/other_misc_projects/video_copy/intermediate/keyframes/c09_20210221204951_C3', '/ddn/gfxhome/asislam25/projects/other_misc_projects/video_copy/intermediate/keyframes/c09_20210226230422_C2', '/ddn/gfxhome/asislam25/projects/other_misc_projects/video_copy/intermediate/keyframes/c09_20210223204726_C4', '/ddn/gfxhome/asislam25/projects/other_misc_projects/video_copy/intermediate/keyframes/c09_20210227224952_C4', '/ddn/gfxhome/asislam25/projects/other_misc_projects/video_copy/intermediate/keyframes/c01_20210130195400_C4', '/ddn/gfxhome/asislam25/projects/other_misc_projects/video_copy/intermediate/keyframes/c01_20210130081629_C3', '/ddn/gfxhome/asislam25/projects/other_misc_projects/video_copy/intermediate/keyframes/c01_20210204062142_C4', '/ddn/gfxhome/asislam25/projects/other_misc_projects/video_copy/intermediate/keyframes/c09_20210227193611_C3', '/ddn/gfxhome/asislam25/projects/other_misc_projects/video_copy/intermediate/keyframes/c09_20210228171844_C2', '/ddn/gfxhome/asislam25/projects/other_misc_projects/video_copy/intermediate/keyframes/c09_20210204140043_C4', '/ddn/gfxhome/asislam25/projects/other_misc_projects/video_copy/intermediate/keyframes/c01_20210131194822_C3', '/ddn/gfxhome/asislam25/projects/other_misc_projects/video_copy/intermediate/keyframes/c01_20210201082747_C1', '/ddn/gfxhome/asislam25/projects/other_misc_projects/video_copy/intermediate/keyframes/c01_20210202062315_C1', '/ddn/gfxhome/asislam25/projects/other_misc_projects/video_copy/intermediate/keyframes/c09_20210228085036_C3', '/ddn/gfxhome/asislam25/projects/other_misc_projects/video_copy/intermediate/keyframes/c09_20210221125002_C2', '/ddn/gfxhome/asislam25/projects/other_misc_projects/video_copy/intermediate/keyframes/c09_20210221172350_C4', '/ddn/gfxhome/asislam25/projects/other_misc_projects/video_copy/intermediate/keyframes/c01_20210130194220_C2'] 50\n"
     ]
    }
   ],
   "source": [
    "archive_locations=[]\n",
    "path_to_archive=\"/ddn/gfxhome/asislam25/projects/other_misc_projects/video_copy/data/setC/positive-c.zip/\"\n",
    "path_to_archive_kf=\"/ddn/gfxhome/asislam25/projects/other_misc_projects/video_copy/intermediate/keyframes/\"\n",
    "for f in os.listdir(path_to_archive):\n",
    "    f=f.split(\".\")[0]\n",
    "\n",
    "    archive_locations.append(path_to_archive_kf+f)\n",
    "    \n",
    "print(archive_locations,len(archive_locations))    "
   ]
  },
  {
   "cell_type": "code",
   "execution_count": 5,
   "metadata": {},
   "outputs": [],
   "source": [
    "# # below are the two lists as inputs\n",
    "# reference_locations=[\n",
    "#     \"/Users/ashhadulislam/projects/other_misc/video_copy/intermediate/keyframes/c01_202101300630\",\n",
    "#     \"/Users/ashhadulislam/projects/other_misc/video_copy/intermediate/keyframes/c01_202101300810\"    \n",
    "# ]\n",
    "\n",
    "# archive_locations=[\n",
    "#     \"/Users/ashhadulislam/projects/other_misc/video_copy/intermediate/keyframes/c01_20210130063213_C2\",\n",
    "#     \"/Users/ashhadulislam/projects/other_misc/video_copy/intermediate/keyframes/c01_20210130081629_C3\",    \n",
    "#     \"/Users/ashhadulislam/projects/other_misc/video_copy/intermediate/keyframes/c01_20210130115216_C3\"\n",
    "# ]\n"
   ]
  },
  {
   "cell_type": "code",
   "execution_count": 44,
   "metadata": {},
   "outputs": [],
   "source": [
    "reference_location_video_names_only=[]\n",
    "for full_path in reference_locations:\n",
    "    just_name=full_path.split(\"/\")[-1]\n",
    "    reference_location_video_names_only.append(just_name)"
   ]
  },
  {
   "cell_type": "code",
   "execution_count": 45,
   "metadata": {},
   "outputs": [],
   "source": [
    "archive_location_video_names_only=[]\n",
    "\n",
    "for full_path in archive_locations:\n",
    "    # remove everything before the last /\n",
    "    just_name=full_path.split(\"/\")[-1]\n",
    "    \n",
    "    # get till the last underscore\n",
    "    just_name=just_name[:-3]\n",
    "    archive_location_video_names_only.append(just_name)"
   ]
  },
  {
   "cell_type": "code",
   "execution_count": 46,
   "metadata": {},
   "outputs": [
    {
     "name": "stdout",
     "output_type": "stream",
     "text": [
      "['c05_202102080735', 'c03_202102071755', 'c05_202101300845', 'c01_202102140630', 'c05_202102012240', 'c01_202102260630', 'c01_202101301300', 'c05_202102010750', 'c01_202101301200', 'c02_202101301300', 'c02_202102120045', 'c07_202102141735', 'c05_202101302220', 'c05_202101311955', 'c08_202102021331', 'c01_202101300810', 'c05_202101301900', 'c03_202101301615', 'c01_202101300630', 'c06_202102010850', 'c01_202101301250', 'c01_202101311605', 'c05_202101311340', 'c03_202102031825', 'c01_202101301255', 'c02_202102131320', 'c03_202101300720', 'c03_202102021700', 'c01_202102141015', 'c06_202102052105'] ['c09_20210210135939', 'c01_20210203062229', 'c01_20210205062047', 'c09_20210222174848', 'c09_20210227162920', 'c01_20210210081914', 'c01_20210131062134', 'c09_20210224174314', 'c05_20210203202303', 'c01_20210130210232', 'c09_20210221115250', 'c09_20210227211344', 'c09_20210225175756', 'c01_20210130124435', 'c01_20210131205546', 'c09_20210228105604', 'c09_20210228124351', 'c01_20210130063213', 'c01_20210202125721', 'c09_20210224010425', 'c09_20210228114527', 'c01_20210130115216', 'c09_20210228095443', 'c05_20210205081528', 'c01_20210202195259', 'c01_20210131125108', 'c01_20210202083021', 'c09_20210222150519', 'c09_20210223175523', 'c01_20210130124857', 'c01_20210131125922', 'c09_20210226175156', 'c09_20210222140438', 'c09_20210221204951', 'c09_20210226230422', 'c09_20210223204726', 'c09_20210227224952', 'c01_20210130195400', 'c01_20210130081629', 'c01_20210204062142', 'c09_20210227193611', 'c09_20210228171844', 'c09_20210204140043', 'c01_20210131194822', 'c01_20210201082747', 'c01_20210202062315', 'c09_20210228085036', 'c09_20210221125002', 'c09_20210221172350', 'c01_20210130194220']\n"
     ]
    }
   ],
   "source": [
    "print(reference_location_video_names_only,archive_location_video_names_only)\n",
    "archive_location_video_names_only.sort()"
   ]
  },
  {
   "cell_type": "code",
   "execution_count": 47,
   "metadata": {},
   "outputs": [
    {
     "data": {
      "text/plain": [
       "(30, 50)"
      ]
     },
     "execution_count": 47,
     "metadata": {},
     "output_type": "execute_result"
    }
   ],
   "source": [
    "len(reference_location_video_names_only),len(archive_location_video_names_only)"
   ]
  },
  {
   "cell_type": "code",
   "execution_count": 48,
   "metadata": {},
   "outputs": [],
   "source": [
    "df=pd.read_csv(\"../data/groundtruth.csv\",sep=\";\")"
   ]
  },
  {
   "cell_type": "code",
   "execution_count": 49,
   "metadata": {},
   "outputs": [
    {
     "data": {
      "text/html": [
       "<div>\n",
       "<style scoped>\n",
       "    .dataframe tbody tr th:only-of-type {\n",
       "        vertical-align: middle;\n",
       "    }\n",
       "\n",
       "    .dataframe tbody tr th {\n",
       "        vertical-align: top;\n",
       "    }\n",
       "\n",
       "    .dataframe thead th {\n",
       "        text-align: right;\n",
       "    }\n",
       "</style>\n",
       "<table border=\"1\" class=\"dataframe\">\n",
       "  <thead>\n",
       "    <tr style=\"text-align: right;\">\n",
       "      <th></th>\n",
       "      <th>Reference_Video</th>\n",
       "      <th>Positive_Video</th>\n",
       "      <th>Reference_Length</th>\n",
       "      <th>Positive_Length</th>\n",
       "      <th>Start_Copy</th>\n",
       "    </tr>\n",
       "  </thead>\n",
       "  <tbody>\n",
       "    <tr>\n",
       "      <th>0</th>\n",
       "      <td>c01_202101300630.mp4</td>\n",
       "      <td>c01_20210130063213.mp4</td>\n",
       "      <td>408</td>\n",
       "      <td>8294</td>\n",
       "      <td>3670</td>\n",
       "    </tr>\n",
       "    <tr>\n",
       "      <th>1</th>\n",
       "      <td>c01_202101300630.mp4</td>\n",
       "      <td>c01_20210131062134.mp4</td>\n",
       "      <td>408</td>\n",
       "      <td>18423</td>\n",
       "      <td>6704</td>\n",
       "    </tr>\n",
       "    <tr>\n",
       "      <th>2</th>\n",
       "      <td>c01_202101300630.mp4</td>\n",
       "      <td>c01_20210202062315.mp4</td>\n",
       "      <td>408</td>\n",
       "      <td>17711</td>\n",
       "      <td>1682</td>\n",
       "    </tr>\n",
       "    <tr>\n",
       "      <th>3</th>\n",
       "      <td>c01_202101300630.mp4</td>\n",
       "      <td>c01_20210203062229.mp4</td>\n",
       "      <td>408</td>\n",
       "      <td>17772</td>\n",
       "      <td>7848</td>\n",
       "    </tr>\n",
       "    <tr>\n",
       "      <th>4</th>\n",
       "      <td>c01_202101300630.mp4</td>\n",
       "      <td>c01_20210204062142.mp4</td>\n",
       "      <td>408</td>\n",
       "      <td>17164</td>\n",
       "      <td>1615</td>\n",
       "    </tr>\n",
       "  </tbody>\n",
       "</table>\n",
       "</div>"
      ],
      "text/plain": [
       "        Reference_Video          Positive_Video  Reference_Length  \\\n",
       "0  c01_202101300630.mp4  c01_20210130063213.mp4               408   \n",
       "1  c01_202101300630.mp4  c01_20210131062134.mp4               408   \n",
       "2  c01_202101300630.mp4  c01_20210202062315.mp4               408   \n",
       "3  c01_202101300630.mp4  c01_20210203062229.mp4               408   \n",
       "4  c01_202101300630.mp4  c01_20210204062142.mp4               408   \n",
       "\n",
       "   Positive_Length  Start_Copy  \n",
       "0             8294        3670  \n",
       "1            18423        6704  \n",
       "2            17711        1682  \n",
       "3            17772        7848  \n",
       "4            17164        1615  "
      ]
     },
     "execution_count": 49,
     "metadata": {},
     "output_type": "execute_result"
    }
   ],
   "source": [
    "df.head()"
   ]
  },
  {
   "cell_type": "code",
   "execution_count": 50,
   "metadata": {},
   "outputs": [],
   "source": [
    "df[\"Reference_Video_name_only\"]=[nm.split(\".\")[0] for nm in df[\"Reference_Video\"]]"
   ]
  },
  {
   "cell_type": "code",
   "execution_count": 51,
   "metadata": {},
   "outputs": [],
   "source": [
    "df[\"Positive_Video_name_only\"]=[nm.split(\".\")[0] for nm in df[\"Positive_Video\"]]"
   ]
  },
  {
   "cell_type": "code",
   "execution_count": 52,
   "metadata": {},
   "outputs": [
    {
     "data": {
      "text/html": [
       "<div>\n",
       "<style scoped>\n",
       "    .dataframe tbody tr th:only-of-type {\n",
       "        vertical-align: middle;\n",
       "    }\n",
       "\n",
       "    .dataframe tbody tr th {\n",
       "        vertical-align: top;\n",
       "    }\n",
       "\n",
       "    .dataframe thead th {\n",
       "        text-align: right;\n",
       "    }\n",
       "</style>\n",
       "<table border=\"1\" class=\"dataframe\">\n",
       "  <thead>\n",
       "    <tr style=\"text-align: right;\">\n",
       "      <th></th>\n",
       "      <th>Reference_Video</th>\n",
       "      <th>Positive_Video</th>\n",
       "      <th>Reference_Length</th>\n",
       "      <th>Positive_Length</th>\n",
       "      <th>Start_Copy</th>\n",
       "      <th>Reference_Video_name_only</th>\n",
       "      <th>Positive_Video_name_only</th>\n",
       "    </tr>\n",
       "  </thead>\n",
       "  <tbody>\n",
       "    <tr>\n",
       "      <th>0</th>\n",
       "      <td>c01_202101300630.mp4</td>\n",
       "      <td>c01_20210130063213.mp4</td>\n",
       "      <td>408</td>\n",
       "      <td>8294</td>\n",
       "      <td>3670</td>\n",
       "      <td>c01_202101300630</td>\n",
       "      <td>c01_20210130063213</td>\n",
       "    </tr>\n",
       "    <tr>\n",
       "      <th>1</th>\n",
       "      <td>c01_202101300630.mp4</td>\n",
       "      <td>c01_20210131062134.mp4</td>\n",
       "      <td>408</td>\n",
       "      <td>18423</td>\n",
       "      <td>6704</td>\n",
       "      <td>c01_202101300630</td>\n",
       "      <td>c01_20210131062134</td>\n",
       "    </tr>\n",
       "    <tr>\n",
       "      <th>2</th>\n",
       "      <td>c01_202101300630.mp4</td>\n",
       "      <td>c01_20210202062315.mp4</td>\n",
       "      <td>408</td>\n",
       "      <td>17711</td>\n",
       "      <td>1682</td>\n",
       "      <td>c01_202101300630</td>\n",
       "      <td>c01_20210202062315</td>\n",
       "    </tr>\n",
       "    <tr>\n",
       "      <th>3</th>\n",
       "      <td>c01_202101300630.mp4</td>\n",
       "      <td>c01_20210203062229.mp4</td>\n",
       "      <td>408</td>\n",
       "      <td>17772</td>\n",
       "      <td>7848</td>\n",
       "      <td>c01_202101300630</td>\n",
       "      <td>c01_20210203062229</td>\n",
       "    </tr>\n",
       "    <tr>\n",
       "      <th>4</th>\n",
       "      <td>c01_202101300630.mp4</td>\n",
       "      <td>c01_20210204062142.mp4</td>\n",
       "      <td>408</td>\n",
       "      <td>17164</td>\n",
       "      <td>1615</td>\n",
       "      <td>c01_202101300630</td>\n",
       "      <td>c01_20210204062142</td>\n",
       "    </tr>\n",
       "  </tbody>\n",
       "</table>\n",
       "</div>"
      ],
      "text/plain": [
       "        Reference_Video          Positive_Video  Reference_Length  \\\n",
       "0  c01_202101300630.mp4  c01_20210130063213.mp4               408   \n",
       "1  c01_202101300630.mp4  c01_20210131062134.mp4               408   \n",
       "2  c01_202101300630.mp4  c01_20210202062315.mp4               408   \n",
       "3  c01_202101300630.mp4  c01_20210203062229.mp4               408   \n",
       "4  c01_202101300630.mp4  c01_20210204062142.mp4               408   \n",
       "\n",
       "   Positive_Length  Start_Copy Reference_Video_name_only  \\\n",
       "0             8294        3670          c01_202101300630   \n",
       "1            18423        6704          c01_202101300630   \n",
       "2            17711        1682          c01_202101300630   \n",
       "3            17772        7848          c01_202101300630   \n",
       "4            17164        1615          c01_202101300630   \n",
       "\n",
       "  Positive_Video_name_only  \n",
       "0       c01_20210130063213  \n",
       "1       c01_20210131062134  \n",
       "2       c01_20210202062315  \n",
       "3       c01_20210203062229  \n",
       "4       c01_20210204062142  "
      ]
     },
     "execution_count": 52,
     "metadata": {},
     "output_type": "execute_result"
    }
   ],
   "source": [
    "df.head()"
   ]
  },
  {
   "cell_type": "code",
   "execution_count": 53,
   "metadata": {},
   "outputs": [],
   "source": [
    "df=df[[\"Reference_Video_name_only\",\"Positive_Video_name_only\"]]"
   ]
  },
  {
   "cell_type": "code",
   "execution_count": 54,
   "metadata": {},
   "outputs": [
    {
     "data": {
      "text/html": [
       "<div>\n",
       "<style scoped>\n",
       "    .dataframe tbody tr th:only-of-type {\n",
       "        vertical-align: middle;\n",
       "    }\n",
       "\n",
       "    .dataframe tbody tr th {\n",
       "        vertical-align: top;\n",
       "    }\n",
       "\n",
       "    .dataframe thead th {\n",
       "        text-align: right;\n",
       "    }\n",
       "</style>\n",
       "<table border=\"1\" class=\"dataframe\">\n",
       "  <thead>\n",
       "    <tr style=\"text-align: right;\">\n",
       "      <th></th>\n",
       "      <th>Reference_Video_name_only</th>\n",
       "      <th>Positive_Video_name_only</th>\n",
       "    </tr>\n",
       "  </thead>\n",
       "  <tbody>\n",
       "    <tr>\n",
       "      <th>0</th>\n",
       "      <td>c01_202101300630</td>\n",
       "      <td>c01_20210130063213</td>\n",
       "    </tr>\n",
       "    <tr>\n",
       "      <th>1</th>\n",
       "      <td>c01_202101300630</td>\n",
       "      <td>c01_20210131062134</td>\n",
       "    </tr>\n",
       "    <tr>\n",
       "      <th>2</th>\n",
       "      <td>c01_202101300630</td>\n",
       "      <td>c01_20210202062315</td>\n",
       "    </tr>\n",
       "    <tr>\n",
       "      <th>3</th>\n",
       "      <td>c01_202101300630</td>\n",
       "      <td>c01_20210203062229</td>\n",
       "    </tr>\n",
       "    <tr>\n",
       "      <th>4</th>\n",
       "      <td>c01_202101300630</td>\n",
       "      <td>c01_20210204062142</td>\n",
       "    </tr>\n",
       "  </tbody>\n",
       "</table>\n",
       "</div>"
      ],
      "text/plain": [
       "  Reference_Video_name_only Positive_Video_name_only\n",
       "0          c01_202101300630       c01_20210130063213\n",
       "1          c01_202101300630       c01_20210131062134\n",
       "2          c01_202101300630       c01_20210202062315\n",
       "3          c01_202101300630       c01_20210203062229\n",
       "4          c01_202101300630       c01_20210204062142"
      ]
     },
     "execution_count": 54,
     "metadata": {},
     "output_type": "execute_result"
    }
   ],
   "source": [
    "df.head()"
   ]
  },
  {
   "cell_type": "code",
   "execution_count": 55,
   "metadata": {},
   "outputs": [
    {
     "data": {
      "text/plain": [
       "(3780, 2)"
      ]
     },
     "execution_count": 55,
     "metadata": {},
     "output_type": "execute_result"
    }
   ],
   "source": [
    "df.shape"
   ]
  },
  {
   "cell_type": "code",
   "execution_count": 56,
   "metadata": {},
   "outputs": [
    {
     "name": "stdout",
     "output_type": "stream",
     "text": [
      "c05_202102080735 (13, 2)\n",
      "c03_202102071755 (19, 2)\n",
      "c05_202101300845 (21, 2)\n",
      "c01_202102140630 (1, 2)\n",
      "c05_202102012240 (12, 2)\n",
      "c01_202102260630 (13, 2)\n",
      "c01_202101301300 (38, 2)\n",
      "c05_202102010750 (6, 2)\n",
      "c01_202101301200 (1, 2)\n",
      "c02_202101301300 (1, 2)\n",
      "c02_202102120045 (7, 2)\n",
      "c07_202102141735 (8, 2)\n",
      "c05_202101302220 (15, 2)\n",
      "c05_202101311955 (5, 2)\n",
      "c08_202102021331 (39, 2)\n",
      "c01_202101300810 (23, 2)\n",
      "c05_202101301900 (15, 2)\n",
      "c03_202101301615 (4, 2)\n",
      "c01_202101300630 (12, 2)\n",
      "c06_202102010850 (22, 2)\n",
      "c01_202101301250 (18, 2)\n",
      "c01_202101311605 (10, 2)\n",
      "c05_202101311340 (8, 2)\n",
      "c03_202102031825 (4, 2)\n",
      "c01_202101301255 (88, 2)\n",
      "c02_202102131320 (12, 2)\n",
      "c03_202101300720 (17, 2)\n",
      "c03_202102021700 (20, 2)\n",
      "c01_202102141015 (4, 2)\n",
      "c06_202102052105 (12, 2)\n"
     ]
    }
   ],
   "source": [
    "# apply filter for reference videos\n",
    "df_new=[]\n",
    "for a_vid in reference_location_video_names_only:\n",
    "    df_chosen=df[df[\"Reference_Video_name_only\"]==a_vid]\n",
    "    print(a_vid,df_chosen.shape)\n",
    "    df_new.append(df_chosen)"
   ]
  },
  {
   "cell_type": "code",
   "execution_count": 57,
   "metadata": {},
   "outputs": [],
   "source": [
    "df_new=pd.concat(df_new)"
   ]
  },
  {
   "cell_type": "code",
   "execution_count": 58,
   "metadata": {},
   "outputs": [
    {
     "data": {
      "text/plain": [
       "(468, 2)"
      ]
     },
     "execution_count": 58,
     "metadata": {},
     "output_type": "execute_result"
    }
   ],
   "source": [
    "df_new.shape"
   ]
  },
  {
   "cell_type": "code",
   "execution_count": 59,
   "metadata": {},
   "outputs": [
    {
     "name": "stdout",
     "output_type": "stream",
     "text": [
      "(13, 2)\n",
      "['c05_20210208073752' 'c05_20210210074114' 'c05_20210210075206'\n",
      " 'c05_20210211074703' 'c05_20210215074215' 'c05_20210217073955'\n",
      " 'c05_20210218073701' 'c05_20210219074115' 'c05_20210222074909'\n",
      " 'c05_20210224073708' 'c05_20210224074428' 'c05_20210225073844'\n",
      " 'c05_20210226074821']\n",
      "[0, 0, 0, 0, 0, 0, 0, 0, 0, 0, 0, 0, 0, 0, 0, 0, 0, 0, 0, 0, 0, 0, 0, 0, 0, 0, 0, 0, 0, 0, 0, 0, 0, 0, 0, 0, 0, 0, 0, 0, 0, 0, 0, 0, 0, 0, 0, 0, 0, 0]\n",
      "(19, 2)\n",
      "['c03_20210131175711' 'c03_20210201165451' 'c03_20210202165838'\n",
      " 'c03_20210205170204' 'c03_20210207175533' 'c03_20210208165752'\n",
      " 'c03_20210209165803' 'c03_20210210165842' 'c03_20210211165843'\n",
      " 'c03_20210212165717' 'c03_20210214175146' 'c03_20210215165948'\n",
      " 'c03_20210216165735' 'c03_20210218165505' 'c03_20210221175544'\n",
      " 'c03_20210222165607' 'c03_20210223165707' 'c03_20210225170102'\n",
      " 'c03_20210228175429']\n",
      "[0, 0, 0, 0, 0, 0, 0, 0, 0, 0, 0, 0, 0, 0, 0, 0, 0, 0, 0, 0, 0, 0, 0, 0, 0, 0, 0, 0, 0, 0, 0, 0, 0, 0, 0, 0, 0, 0, 0, 0, 0, 0, 0, 0, 0, 0, 0, 0, 0, 0]\n",
      "(21, 2)\n",
      "['c05_20210130083421' 'c05_20210130084519' 'c05_20210206081444'\n",
      " 'c05_20210206082518' 'c05_20210206083509' 'c05_20210207074600'\n",
      " 'c05_20210207075916' 'c05_20210212074150' 'c05_20210213081359'\n",
      " 'c05_20210213082959' 'c05_20210214074048' 'c05_20210214075941'\n",
      " 'c05_20210216075052' 'c05_20210216075611' 'c05_20210219074905'\n",
      " 'c05_20210220081053' 'c05_20210220082243' 'c05_20210221073839'\n",
      " 'c05_20210221074919' 'c05_20210221075812' 'c05_20210228074505']\n",
      "[0, 0, 0, 0, 0, 0, 0, 0, 0, 0, 0, 0, 0, 0, 0, 0, 0, 0, 0, 0, 0, 0, 0, 0, 0, 0, 0, 0, 0, 0, 0, 0, 0, 0, 0, 0, 0, 0, 0, 0, 0, 0, 0, 0, 0, 0, 0, 0, 0, 0]\n",
      "(1, 2)\n",
      "['c01_20210214062028']\n",
      "[0, 0, 0, 0, 0, 0, 0, 0, 0, 0, 0, 0, 0, 0, 0, 0, 0, 0, 0, 0, 0, 0, 0, 0, 0, 0, 0, 0, 0, 0, 0, 0, 0, 0, 0, 0, 0, 0, 0, 0, 0, 0, 0, 0, 0, 0, 0, 0, 0, 0]\n",
      "(12, 2)\n",
      "['c05_20210202223328' 'c05_20210204222408' 'c05_20210208222412'\n",
      " 'c05_20210209223946' 'c05_20210211222621' 'c05_20210211222902'\n",
      " 'c05_20210216224411' 'c05_20210218224512' 'c05_20210222230027'\n",
      " 'c05_20210223223654' 'c05_20210224222510' 'c05_20210225223547']\n",
      "[0, 0, 0, 0, 0, 0, 0, 0, 0, 0, 0, 0, 0, 0, 0, 0, 0, 0, 0, 0, 0, 0, 0, 0, 0, 0, 0, 0, 0, 0, 0, 0, 0, 0, 0, 0, 0, 0, 0, 0, 0, 0, 0, 0, 0, 0, 0, 0, 0, 0]\n",
      "(13, 2)\n",
      "['c01_20210215061827' 'c01_20210216061931' 'c01_20210217061909'\n",
      " 'c01_20210218062223' 'c01_20210219061714' 'c01_20210220062318'\n",
      " 'c01_20210221062317' 'c01_20210222062212' 'c01_20210223062707'\n",
      " 'c01_20210224062042' 'c01_20210226062618' 'c01_20210227062428'\n",
      " 'c01_20210228061825']\n",
      "[0, 0, 0, 0, 0, 0, 0, 0, 0, 0, 0, 0, 0, 0, 0, 0, 0, 0, 0, 0, 0, 0, 0, 0, 0, 0, 0, 0, 0, 0, 0, 0, 0, 0, 0, 0, 0, 0, 0, 0, 0, 0, 0, 0, 0, 0, 0, 0, 0, 0]\n",
      "(38, 2)\n",
      "['c01_20210131125922' 'c01_20210131194822' 'c01_20210202125721'\n",
      " 'c01_20210202195259' 'c01_20210203125517' 'c01_20210203195609'\n",
      " 'c01_20210204125751' 'c01_20210204195455' 'c01_20210205124340'\n",
      " 'c01_20210205195645' 'c01_20210206125201' 'c01_20210206195354'\n",
      " 'c01_20210207125834' 'c01_20210209195417' 'c01_20210211195045'\n",
      " 'c01_20210213125645' 'c01_20210214125453' 'c01_20210214195143'\n",
      " 'c01_20210215125520' 'c01_20210215195530' 'c01_20210217195216'\n",
      " 'c01_20210218125441' 'c01_20210219125335' 'c01_20210219195209'\n",
      " 'c01_20210220194939' 'c01_20210221125657' 'c01_20210222125531'\n",
      " 'c01_20210222194918' 'c01_20210223125143' 'c01_20210223195257'\n",
      " 'c01_20210224125645' 'c01_20210225125257' 'c01_20210225195808'\n",
      " 'c01_20210226125650' 'c01_20210226195353' 'c01_20210227195534'\n",
      " 'c01_20210228125031' 'c01_20210228195156']\n",
      "[0, 0, 0, 0, 0, 0, 0, 0, 0, 0, 1, 1, 0, 0, 0, 0, 1, 1, 0, 0, 0, 0, 0, 0, 0, 0, 0, 0, 0, 0, 0, 0, 0, 0, 0, 0, 0, 0, 0, 0, 0, 0, 0, 0, 0, 0, 0, 0, 0, 0]\n",
      "(6, 2)\n",
      "['c05_20210202074635' 'c05_20210202075438' 'c05_20210203074338'\n",
      " 'c05_20210204074307' 'c05_20210205074306' 'c05_20210216075052']\n",
      "[0, 0, 0, 0, 0, 0, 0, 0, 0, 0, 0, 0, 0, 0, 0, 0, 0, 0, 0, 0, 0, 0, 0, 0, 0, 0, 0, 0, 0, 0, 0, 0, 0, 0, 0, 0, 0, 0, 0, 0, 0, 0, 0, 0, 0, 0, 0, 0, 0, 0]\n",
      "(1, 2)\n",
      "['c01_20210130115216']\n",
      "[0, 0, 1, 0, 0, 0, 0, 0, 0, 0, 0, 0, 0, 0, 0, 0, 0, 0, 0, 0, 0, 0, 0, 0, 0, 0, 0, 0, 0, 0, 0, 0, 0, 0, 0, 0, 0, 0, 0, 0, 0, 0, 0, 0, 0, 0, 0, 0, 0, 0]\n",
      "(1, 2)\n",
      "['c02_20210130125356']\n",
      "[0, 0, 0, 0, 0, 0, 0, 0, 0, 0, 0, 0, 0, 0, 0, 0, 0, 0, 0, 0, 0, 0, 0, 0, 0, 0, 0, 0, 0, 0, 0, 0, 0, 0, 0, 0, 0, 0, 0, 0, 0, 0, 0, 0, 0, 0, 0, 0, 0, 0]\n",
      "(7, 2)\n",
      "['c02_20210131131825' 'c02_20210207132059' 'c02_20210212004200'\n",
      " 'c02_20210214131837' 'c02_20210221131847' 'c02_20210226000828'\n",
      " 'c02_20210228132124']\n",
      "[0, 0, 0, 0, 0, 0, 0, 0, 0, 0, 0, 0, 0, 0, 0, 0, 0, 0, 0, 0, 0, 0, 0, 0, 0, 0, 0, 0, 0, 0, 0, 0, 0, 0, 0, 0, 0, 0, 0, 0, 0, 0, 0, 0, 0, 0, 0, 0, 0, 0]\n",
      "(8, 2)\n",
      "['c07_20210207153726' 'c07_20210207160133' 'c07_20210214170444'\n",
      " 'c07_20210214173424' 'c07_20210221170547' 'c07_20210221173500'\n",
      " 'c07_20210228163151' 'c07_20210228165540']\n",
      "[0, 0, 0, 0, 0, 0, 0, 0, 0, 0, 0, 0, 0, 0, 0, 0, 0, 0, 0, 0, 0, 0, 0, 0, 0, 0, 0, 0, 0, 0, 0, 0, 0, 0, 0, 0, 0, 0, 0, 0, 0, 0, 0, 0, 0, 0, 0, 0, 0, 0]\n",
      "(15, 2)\n",
      "['c05_20210130204732' 'c05_20210130222136' 'c05_20210131101910'\n",
      " 'c05_20210206204829' 'c05_20210206222420' 'c05_20210207102108'\n",
      " 'c05_20210213204602' 'c05_20210213222313' 'c05_20210214101703'\n",
      " 'c05_20210220204625' 'c05_20210220222546' 'c05_20210221101547'\n",
      " 'c05_20210227204730' 'c05_20210227221741' 'c05_20210228101857']\n",
      "[0, 0, 0, 0, 0, 0, 0, 0, 0, 0, 0, 0, 0, 0, 0, 0, 0, 0, 0, 0, 0, 0, 0, 0, 0, 0, 0, 0, 0, 0, 0, 0, 0, 0, 0, 0, 0, 0, 0, 0, 0, 0, 0, 0, 0, 0, 0, 0, 0, 0]\n",
      "(5, 2)\n",
      "['c05_20210131195501' 'c05_20210207200002' 'c05_20210214195243'\n",
      " 'c05_20210221195927' 'c05_20210228195618']\n",
      "[0, 0, 0, 0, 0, 0, 0, 0, 0, 0, 0, 0, 0, 0, 0, 0, 0, 0, 0, 0, 0, 0, 0, 0, 0, 0, 0, 0, 0, 0, 0, 0, 0, 0, 0, 0, 0, 0, 0, 0, 0, 0, 0, 0, 0, 0, 0, 0, 0, 0]\n",
      "(39, 2)\n",
      "['c08_20210201124304' 'c08_20210201132620' 'c08_20210201133630'\n",
      " 'c08_20210202133113' 'c08_20210203124148' 'c08_20210203133015'\n",
      " 'c08_20210204124356' 'c08_20210204133303' 'c08_20210205133813'\n",
      " 'c08_20210208123958' 'c08_20210208133311' 'c08_20210208134029'\n",
      " 'c08_20210209124030' 'c08_20210209133113' 'c08_20210209133959'\n",
      " 'c08_20210210124014' 'c08_20210210133121' 'c08_20210211133236'\n",
      " 'c08_20210212133716' 'c08_20210215124002' 'c08_20210215132415'\n",
      " 'c08_20210216124121' 'c08_20210216133102' 'c08_20210217124056'\n",
      " 'c08_20210217133047' 'c08_20210218123823' 'c08_20210218133117'\n",
      " 'c08_20210219133711' 'c08_20210222133844' 'c08_20210223124138'\n",
      " 'c08_20210223133015' 'c08_20210223134500' 'c08_20210224124114'\n",
      " 'c08_20210224132922' 'c08_20210224134103' 'c08_20210225124140'\n",
      " 'c08_20210225133158' 'c08_20210225134418' 'c08_20210226134220']\n",
      "[0, 0, 0, 0, 0, 0, 0, 0, 0, 0, 0, 0, 0, 0, 0, 0, 0, 0, 0, 0, 0, 0, 0, 0, 0, 0, 0, 0, 0, 0, 0, 0, 0, 0, 0, 0, 0, 0, 0, 0, 0, 0, 0, 0, 0, 0, 0, 0, 0, 0]\n",
      "(23, 2)\n",
      "['c01_20210130081629' 'c01_20210201082747' 'c01_20210202083021'\n",
      " 'c01_20210203082724' 'c01_20210204082651' 'c01_20210205082645'\n",
      " 'c01_20210206081417' 'c01_20210208081743' 'c01_20210209082624'\n",
      " 'c01_20210210081914' 'c01_20210211081838' 'c01_20210212082357'\n",
      " 'c01_20210213081058' 'c01_20210215082051' 'c01_20210216082645'\n",
      " 'c01_20210217082447' 'c01_20210218082402' 'c01_20210219082030'\n",
      " 'c01_20210220081813' 'c01_20210222082445' 'c01_20210223082742'\n",
      " 'c01_20210225082210' 'c01_20210226082213']\n",
      "[0, 1, 0, 0, 0, 0, 0, 0, 0, 0, 0, 0, 0, 1, 0, 1, 0, 0, 0, 0, 0, 1, 0, 0, 0, 0, 0, 0, 0, 0, 0, 0, 0, 0, 0, 0, 0, 0, 0, 0, 0, 0, 0, 0, 0, 0, 0, 0, 0, 0]\n",
      "(15, 2)\n",
      "['c05_20210130185425' 'c05_20210130195811' 'c05_20210131122943'\n",
      " 'c05_20210206185441' 'c05_20210206195754' 'c05_20210207122651'\n",
      " 'c05_20210213185855' 'c05_20210213195851' 'c05_20210214122705'\n",
      " 'c05_20210220190032' 'c05_20210220200051' 'c05_20210221123257'\n",
      " 'c05_20210227190118' 'c05_20210227195426' 'c05_20210228123518']\n",
      "[0, 0, 0, 0, 0, 0, 0, 0, 0, 0, 0, 0, 0, 0, 0, 0, 0, 0, 0, 0, 0, 0, 0, 0, 0, 0, 0, 0, 0, 0, 0, 0, 0, 0, 0, 0, 0, 0, 0, 0, 0, 0, 0, 0, 0, 0, 0, 0, 0, 0]\n",
      "(4, 2)\n",
      "['c03_20210130161450' 'c03_20210206160906' 'c03_20210213161010'\n",
      " 'c03_20210220161425']\n",
      "[0, 0, 0, 0, 0, 0, 0, 0, 0, 0, 0, 0, 0, 0, 0, 0, 0, 0, 0, 0, 0, 0, 0, 0, 0, 0, 0, 0, 0, 0, 0, 0, 0, 0, 0, 0, 0, 0, 0, 0, 0, 0, 0, 0, 0, 0, 0, 0, 0, 0]\n",
      "(12, 2)\n",
      "['c01_20210130063213' 'c01_20210131062134' 'c01_20210202062315'\n",
      " 'c01_20210203062229' 'c01_20210204062142' 'c01_20210205062047'\n",
      " 'c01_20210206062651' 'c01_20210207062207' 'c01_20210208061745'\n",
      " 'c01_20210209062258' 'c01_20210211062434' 'c01_20210212062230']\n",
      "[1, 0, 0, 0, 0, 0, 0, 0, 1, 0, 0, 0, 0, 0, 1, 0, 0, 0, 1, 1, 1, 0, 0, 0, 0, 0, 0, 0, 0, 0, 0, 0, 0, 0, 0, 0, 0, 0, 0, 0, 0, 0, 0, 0, 0, 0, 0, 0, 0, 0]\n",
      "(22, 2)\n",
      "['c06_20210201084910' 'c06_20210202085102' 'c06_20210203084935'\n",
      " 'c06_20210204085123' 'c06_20210205085258' 'c06_20210208085137'\n",
      " 'c06_20210209085128' 'c06_20210210085249' 'c06_20210211085037'\n",
      " 'c06_20210212084743' 'c06_20210214074441' 'c06_20210215085012'\n",
      " 'c06_20210216085106' 'c06_20210217085055' 'c06_20210218084539'\n",
      " 'c06_20210219084822' 'c06_20210221075154' 'c06_20210222084947'\n",
      " 'c06_20210223085015' 'c06_20210224084832' 'c06_20210225084920'\n",
      " 'c06_20210226084926']\n",
      "[0, 0, 0, 0, 0, 0, 0, 0, 0, 0, 0, 0, 0, 0, 0, 0, 0, 0, 0, 0, 0, 0, 0, 0, 0, 0, 0, 0, 0, 0, 0, 0, 0, 0, 0, 0, 0, 0, 0, 0, 0, 0, 0, 0, 0, 0, 0, 0, 0, 0]\n",
      "(18, 2)\n",
      "['c01_20210130124435' 'c01_20210130194220' 'c01_20210131194822'\n",
      " 'c01_20210201133012' 'c01_20210202124851' 'c01_20210204124618'\n",
      " 'c01_20210205124340' 'c01_20210206124345' 'c01_20210206194248'\n",
      " 'c01_20210207194540' 'c01_20210208114503' 'c01_20210208124539'\n",
      " 'c01_20210209114448' 'c01_20210209124431' 'c01_20210210114513'\n",
      " 'c01_20210210124859' 'c01_20210211124519' 'c01_20210212124657']\n",
      "[0, 0, 0, 1, 0, 1, 0, 0, 0, 0, 0, 1, 0, 0, 0, 0, 0, 0, 0, 0, 0, 0, 0, 0, 0, 0, 0, 0, 0, 0, 0, 0, 0, 0, 0, 0, 0, 0, 0, 0, 0, 0, 0, 0, 0, 0, 0, 0, 0, 0]\n",
      "(10, 2)\n",
      "['c01_20210130161235' 'c01_20210131160822' 'c01_20210206161650'\n",
      " 'c01_20210207160045' 'c01_20210213160845' 'c01_20210214161041'\n",
      " 'c01_20210220160828' 'c01_20210221160339' 'c01_20210227160818'\n",
      " 'c01_20210228160238']\n",
      "[0, 0, 0, 0, 0, 0, 0, 0, 0, 0, 0, 0, 0, 0, 0, 0, 0, 0, 0, 0, 0, 0, 0, 0, 0, 0, 0, 0, 0, 0, 0, 0, 0, 0, 0, 0, 0, 0, 0, 0, 0, 0, 0, 0, 0, 0, 0, 0, 0, 0]\n",
      "(8, 2)\n",
      "['c05_20210130202058' 'c05_20210131133616' 'c05_20210206202000'\n",
      " 'c05_20210211091358' 'c05_20210212090907' 'c05_20210213202127'\n",
      " 'c05_20210214132828' 'c05_20210216090641']\n",
      "[0, 0, 0, 0, 0, 0, 0, 0, 0, 0, 0, 0, 0, 0, 0, 0, 0, 0, 0, 0, 0, 0, 0, 0, 0, 0, 0, 0, 0, 0, 0, 0, 0, 0, 0, 0, 0, 0, 0, 0, 0, 0, 0, 0, 0, 0, 0, 0, 0, 0]\n",
      "(4, 2)\n",
      "['c03_20210202182650' 'c03_20210208182723' 'c03_20210210182658'\n",
      " 'c03_20210224182114']\n",
      "[0, 0, 0, 0, 0, 0, 0, 0, 0, 0, 0, 0, 0, 0, 0, 0, 0, 0, 0, 0, 0, 0, 0, 0, 0, 0, 0, 0, 0, 0, 0, 0, 0, 0, 0, 0, 0, 0, 0, 0, 0, 0, 0, 0, 0, 0, 0, 0, 0, 0]\n",
      "(88, 2)\n",
      "['c01_20210130124857' 'c01_20210130195400' 'c01_20210130210232'\n",
      " 'c01_20210131125108' 'c01_20210131194822' 'c01_20210131205546'\n",
      " 'c01_20210201082747' 'c01_20210201091852' 'c01_20210201134138'\n",
      " 'c01_20210201203833' 'c01_20210202091555' 'c01_20210202195259'\n",
      " 'c01_20210202205950' 'c01_20210203082724' 'c01_20210203091703'\n",
      " 'c01_20210203195609' 'c01_20210204090848' 'c01_20210204195455'\n",
      " 'c01_20210204205739' 'c01_20210205091536' 'c01_20210205135939'\n",
      " 'c01_20210205195645' 'c01_20210206195354' 'c01_20210206205903'\n",
      " 'c01_20210207124920' 'c01_20210207195238' 'c01_20210208081743'\n",
      " 'c01_20210209091231' 'c01_20210209195417' 'c01_20210209205741'\n",
      " 'c01_20210210081914' 'c01_20210210091135' 'c01_20210211081838'\n",
      " 'c01_20210211091232' 'c01_20210211195045' 'c01_20210211205503'\n",
      " 'c01_20210212091432' 'c01_20210212135956' 'c01_20210212205806'\n",
      " 'c01_20210213124433' 'c01_20210213195511' 'c01_20210213210242'\n",
      " 'c01_20210214195143' 'c01_20210214205737' 'c01_20210215082051'\n",
      " 'c01_20210215195530' 'c01_20210215205649' 'c01_20210216091810'\n",
      " 'c01_20210217082447' 'c01_20210217091621' 'c01_20210217195216'\n",
      " 'c01_20210217205638' 'c01_20210218082402' 'c01_20210218091514'\n",
      " 'c01_20210218195321' 'c01_20210218205600' 'c01_20210219082030'\n",
      " 'c01_20210219090956' 'c01_20210219195209' 'c01_20210219205816'\n",
      " 'c01_20210220124543' 'c01_20210220194939' 'c01_20210220210038'\n",
      " 'c01_20210221124535' 'c01_20210221195647' 'c01_20210221210021'\n",
      " 'c01_20210222082445' 'c01_20210222091503' 'c01_20210222194918'\n",
      " 'c01_20210222205734' 'c01_20210223091448' 'c01_20210223195257'\n",
      " 'c01_20210223205931' 'c01_20210224091631' 'c01_20210224195115'\n",
      " 'c01_20210224205637' 'c01_20210225082210' 'c01_20210225091359'\n",
      " 'c01_20210225135610' 'c01_20210226082213' 'c01_20210226091251'\n",
      " 'c01_20210226195353' 'c01_20210227124311' 'c01_20210227195534'\n",
      " 'c01_20210227205737' 'c01_20210228125031' 'c01_20210228195156'\n",
      " 'c01_20210228210000']\n",
      "[0, 0, 0, 0, 1, 0, 1, 1, 0, 1, 0, 1, 1, 1, 0, 0, 0, 1, 0, 0, 0, 1, 0, 0, 0, 0, 0, 0, 0, 0, 0, 0, 0, 0, 0, 0, 0, 0, 0, 0, 0, 0, 0, 0, 0, 0, 0, 0, 0, 0]\n",
      "(12, 2)\n",
      "['c02_20210130132008' 'c02_20210131131825' 'c02_20210206131631'\n",
      " 'c02_20210212004200' 'c02_20210213131938' 'c02_20210214131837'\n",
      " 'c02_20210215011238' 'c02_20210220131535' 'c02_20210221131847'\n",
      " 'c02_20210222012606' 'c02_20210226000828' 'c02_20210227131726']\n",
      "[0, 0, 0, 0, 0, 0, 0, 0, 0, 0, 0, 0, 0, 0, 0, 0, 0, 0, 0, 0, 0, 0, 0, 0, 0, 0, 0, 0, 0, 0, 0, 0, 0, 0, 0, 0, 0, 0, 0, 0, 0, 0, 0, 0, 0, 0, 0, 0, 0, 0]\n",
      "(17, 2)\n",
      "['c03_20210130071617' 'c03_20210130072905' 'c03_20210206070542'\n",
      " 'c03_20210206072738' 'c03_20210206073908' 'c03_20210207070613'\n",
      " 'c03_20210207073034' 'c03_20210207074141' 'c03_20210213071643'\n",
      " 'c03_20210214071256' 'c03_20210220072142' 'c03_20210220074642'\n",
      " 'c03_20210221072135' 'c03_20210221074511' 'c03_20210228065418'\n",
      " 'c03_20210228072907' 'c03_20210228074010']\n",
      "[0, 0, 0, 0, 0, 0, 0, 0, 0, 0, 0, 0, 0, 0, 0, 0, 0, 0, 0, 0, 0, 0, 0, 0, 0, 0, 0, 0, 0, 0, 0, 0, 0, 0, 0, 0, 0, 0, 0, 0, 0, 0, 0, 0, 0, 0, 0, 0, 0, 0]\n",
      "(20, 2)\n",
      "['c03_20210131175711' 'c03_20210201165451' 'c03_20210202165838'\n",
      " 'c03_20210205170204' 'c03_20210207175533' 'c03_20210208165752'\n",
      " 'c03_20210209165803' 'c03_20210210165842' 'c03_20210211165843'\n",
      " 'c03_20210212165717' 'c03_20210214175146' 'c03_20210215165948'\n",
      " 'c03_20210216165735' 'c03_20210218165505' 'c03_20210221175544'\n",
      " 'c03_20210222165607' 'c03_20210223165707' 'c03_20210225170102'\n",
      " 'c03_20210226165908' 'c03_20210228175429']\n",
      "[0, 0, 0, 0, 0, 0, 0, 0, 0, 0, 0, 0, 0, 0, 0, 0, 0, 0, 0, 0, 0, 0, 0, 0, 0, 0, 0, 0, 0, 0, 0, 0, 0, 0, 0, 0, 0, 0, 0, 0, 0, 0, 0, 0, 0, 0, 0, 0, 0, 0]\n",
      "(4, 2)\n",
      "['c01_20210207100935' 'c01_20210214101036' 'c01_20210221100700'\n",
      " 'c01_20210228100603']\n",
      "[0, 0, 0, 0, 0, 0, 0, 0, 0, 0, 0, 0, 0, 0, 0, 0, 0, 0, 0, 0, 0, 0, 0, 0, 0, 0, 0, 0, 0, 0, 0, 0, 0, 0, 0, 0, 0, 0, 0, 0, 0, 0, 0, 0, 0, 0, 0, 0, 0, 0]\n",
      "(12, 2)\n",
      "['c06_20210205210729' 'c06_20210205215615' 'c06_20210205224739'\n",
      " 'c06_20210212210949' 'c06_20210212215132' 'c06_20210212224003'\n",
      " 'c06_20210219211253' 'c06_20210219215440' 'c06_20210219223533'\n",
      " 'c06_20210226211144' 'c06_20210226215703' 'c06_20210226224304']\n",
      "[0, 0, 0, 0, 0, 0, 0, 0, 0, 0, 0, 0, 0, 0, 0, 0, 0, 0, 0, 0, 0, 0, 0, 0, 0, 0, 0, 0, 0, 0, 0, 0, 0, 0, 0, 0, 0, 0, 0, 0, 0, 0, 0, 0, 0, 0, 0, 0, 0, 0]\n"
     ]
    }
   ],
   "source": [
    "my_ground_truths={}\n",
    "my_ground_truths[\"reference_video\"]=[]\n",
    "my_ground_truths[\"score_array\"]=[]\n",
    "my_ground_truths[\"archive_videos\"]=[]\n",
    "\n",
    "for a_vid in reference_location_video_names_only:\n",
    "    df_chosen=df_new[df_new[\"Reference_Video_name_only\"]==a_vid]\n",
    "    print(df_chosen.shape)\n",
    "    uniq_archives=df_chosen[\"Positive_Video_name_only\"].unique()\n",
    "    print(uniq_archives)\n",
    "    scores=[]\n",
    "    for arch_vid in archive_location_video_names_only:\n",
    "        if arch_vid in uniq_archives:\n",
    "            scores.append(1)\n",
    "        else:\n",
    "            scores.append(0)\n",
    "    print(scores)\n",
    "    my_ground_truths[\"reference_video\"].append(a_vid)\n",
    "    my_ground_truths[\"score_array\"].append(scores)\n",
    "    my_ground_truths[\"archive_videos\"].append(archive_location_video_names_only)"
   ]
  },
  {
   "cell_type": "code",
   "execution_count": 60,
   "metadata": {},
   "outputs": [
    {
     "name": "stdout",
     "output_type": "stream",
     "text": [
      "(30, 3)\n"
     ]
    }
   ],
   "source": [
    "df_gtruth=pd.DataFrame(my_ground_truths)\n",
    "print(df_gtruth.shape)"
   ]
  },
  {
   "cell_type": "code",
   "execution_count": 61,
   "metadata": {},
   "outputs": [
    {
     "data": {
      "text/html": [
       "<div>\n",
       "<style scoped>\n",
       "    .dataframe tbody tr th:only-of-type {\n",
       "        vertical-align: middle;\n",
       "    }\n",
       "\n",
       "    .dataframe tbody tr th {\n",
       "        vertical-align: top;\n",
       "    }\n",
       "\n",
       "    .dataframe thead th {\n",
       "        text-align: right;\n",
       "    }\n",
       "</style>\n",
       "<table border=\"1\" class=\"dataframe\">\n",
       "  <thead>\n",
       "    <tr style=\"text-align: right;\">\n",
       "      <th></th>\n",
       "      <th>reference_video</th>\n",
       "      <th>score_array</th>\n",
       "      <th>archive_videos</th>\n",
       "    </tr>\n",
       "  </thead>\n",
       "  <tbody>\n",
       "    <tr>\n",
       "      <th>0</th>\n",
       "      <td>c05_202102080735</td>\n",
       "      <td>[0, 0, 0, 0, 0, 0, 0, 0, 0, 0, 0, 0, 0, 0, 0, ...</td>\n",
       "      <td>[c01_20210130063213, c01_20210130081629, c01_2...</td>\n",
       "    </tr>\n",
       "    <tr>\n",
       "      <th>1</th>\n",
       "      <td>c03_202102071755</td>\n",
       "      <td>[0, 0, 0, 0, 0, 0, 0, 0, 0, 0, 0, 0, 0, 0, 0, ...</td>\n",
       "      <td>[c01_20210130063213, c01_20210130081629, c01_2...</td>\n",
       "    </tr>\n",
       "    <tr>\n",
       "      <th>2</th>\n",
       "      <td>c05_202101300845</td>\n",
       "      <td>[0, 0, 0, 0, 0, 0, 0, 0, 0, 0, 0, 0, 0, 0, 0, ...</td>\n",
       "      <td>[c01_20210130063213, c01_20210130081629, c01_2...</td>\n",
       "    </tr>\n",
       "    <tr>\n",
       "      <th>3</th>\n",
       "      <td>c01_202102140630</td>\n",
       "      <td>[0, 0, 0, 0, 0, 0, 0, 0, 0, 0, 0, 0, 0, 0, 0, ...</td>\n",
       "      <td>[c01_20210130063213, c01_20210130081629, c01_2...</td>\n",
       "    </tr>\n",
       "    <tr>\n",
       "      <th>4</th>\n",
       "      <td>c05_202102012240</td>\n",
       "      <td>[0, 0, 0, 0, 0, 0, 0, 0, 0, 0, 0, 0, 0, 0, 0, ...</td>\n",
       "      <td>[c01_20210130063213, c01_20210130081629, c01_2...</td>\n",
       "    </tr>\n",
       "  </tbody>\n",
       "</table>\n",
       "</div>"
      ],
      "text/plain": [
       "    reference_video                                        score_array  \\\n",
       "0  c05_202102080735  [0, 0, 0, 0, 0, 0, 0, 0, 0, 0, 0, 0, 0, 0, 0, ...   \n",
       "1  c03_202102071755  [0, 0, 0, 0, 0, 0, 0, 0, 0, 0, 0, 0, 0, 0, 0, ...   \n",
       "2  c05_202101300845  [0, 0, 0, 0, 0, 0, 0, 0, 0, 0, 0, 0, 0, 0, 0, ...   \n",
       "3  c01_202102140630  [0, 0, 0, 0, 0, 0, 0, 0, 0, 0, 0, 0, 0, 0, 0, ...   \n",
       "4  c05_202102012240  [0, 0, 0, 0, 0, 0, 0, 0, 0, 0, 0, 0, 0, 0, 0, ...   \n",
       "\n",
       "                                      archive_videos  \n",
       "0  [c01_20210130063213, c01_20210130081629, c01_2...  \n",
       "1  [c01_20210130063213, c01_20210130081629, c01_2...  \n",
       "2  [c01_20210130063213, c01_20210130081629, c01_2...  \n",
       "3  [c01_20210130063213, c01_20210130081629, c01_2...  \n",
       "4  [c01_20210130063213, c01_20210130081629, c01_2...  "
      ]
     },
     "execution_count": 61,
     "metadata": {},
     "output_type": "execute_result"
    }
   ],
   "source": [
    "df_gtruth.head()"
   ]
  },
  {
   "cell_type": "code",
   "execution_count": null,
   "metadata": {},
   "outputs": [],
   "source": []
  },
  {
   "cell_type": "code",
   "execution_count": 62,
   "metadata": {},
   "outputs": [],
   "source": [
    "df_gtruth.to_csv(\"../results/computer_says.csv\",index=False)"
   ]
  },
  {
   "cell_type": "markdown",
   "metadata": {},
   "source": [
    "## now we need to process our output"
   ]
  },
  {
   "cell_type": "code",
   "execution_count": 63,
   "metadata": {},
   "outputs": [],
   "source": [
    "# choose a strategy and threshold\n",
    "strategy=\"phash\"\n",
    "threshold=10"
   ]
  },
  {
   "cell_type": "code",
   "execution_count": null,
   "metadata": {},
   "outputs": [],
   "source": []
  },
  {
   "cell_type": "code",
   "execution_count": null,
   "metadata": {},
   "outputs": [],
   "source": []
  },
  {
   "cell_type": "code",
   "execution_count": null,
   "metadata": {},
   "outputs": [],
   "source": []
  },
  {
   "cell_type": "code",
   "execution_count": 64,
   "metadata": {},
   "outputs": [
    {
     "name": "stdout",
     "output_type": "stream",
     "text": [
      "(119750, 5)\n"
     ]
    }
   ],
   "source": [
    "df_res_us=pd.read_csv(\"../results/res_all.csv\")\n",
    "print(df_res_us.shape)\n",
    "df_res_us=df_res_us[df_res_us[\"strategy\"]==strategy]\n",
    "df_res_us=df_res_us[df_res_us[\"score\"]<=threshold]"
   ]
  },
  {
   "cell_type": "code",
   "execution_count": 65,
   "metadata": {},
   "outputs": [
    {
     "data": {
      "text/plain": [
       "(870, 5)"
      ]
     },
     "execution_count": 65,
     "metadata": {},
     "output_type": "execute_result"
    }
   ],
   "source": [
    "df_res_us.shape"
   ]
  },
  {
   "cell_type": "code",
   "execution_count": 66,
   "metadata": {},
   "outputs": [
    {
     "data": {
      "text/html": [
       "<div>\n",
       "<style scoped>\n",
       "    .dataframe tbody tr th:only-of-type {\n",
       "        vertical-align: middle;\n",
       "    }\n",
       "\n",
       "    .dataframe tbody tr th {\n",
       "        vertical-align: top;\n",
       "    }\n",
       "\n",
       "    .dataframe thead th {\n",
       "        text-align: right;\n",
       "    }\n",
       "</style>\n",
       "<table border=\"1\" class=\"dataframe\">\n",
       "  <thead>\n",
       "    <tr style=\"text-align: right;\">\n",
       "      <th></th>\n",
       "      <th>ref_kf_path_name</th>\n",
       "      <th>arch_kf_path</th>\n",
       "      <th>arch_kf_name</th>\n",
       "      <th>strategy</th>\n",
       "      <th>score</th>\n",
       "    </tr>\n",
       "  </thead>\n",
       "  <tbody>\n",
       "    <tr>\n",
       "      <th>1670</th>\n",
       "      <td>/ddn/gfxhome/asislam25/projects/other_misc_pro...</td>\n",
       "      <td>/ddn/gfxhome/asislam25/projects/other_misc_pro...</td>\n",
       "      <td>5864.jpg</td>\n",
       "      <td>phash</td>\n",
       "      <td>10</td>\n",
       "    </tr>\n",
       "    <tr>\n",
       "      <th>2319</th>\n",
       "      <td>/ddn/gfxhome/asislam25/projects/other_misc_pro...</td>\n",
       "      <td>/ddn/gfxhome/asislam25/projects/other_misc_pro...</td>\n",
       "      <td>11958.jpg</td>\n",
       "      <td>phash</td>\n",
       "      <td>10</td>\n",
       "    </tr>\n",
       "    <tr>\n",
       "      <th>2320</th>\n",
       "      <td>/ddn/gfxhome/asislam25/projects/other_misc_pro...</td>\n",
       "      <td>/ddn/gfxhome/asislam25/projects/other_misc_pro...</td>\n",
       "      <td>164.jpg</td>\n",
       "      <td>phash</td>\n",
       "      <td>10</td>\n",
       "    </tr>\n",
       "    <tr>\n",
       "      <th>2460</th>\n",
       "      <td>/ddn/gfxhome/asislam25/projects/other_misc_pro...</td>\n",
       "      <td>/ddn/gfxhome/asislam25/projects/other_misc_pro...</td>\n",
       "      <td>1382.jpg</td>\n",
       "      <td>phash</td>\n",
       "      <td>10</td>\n",
       "    </tr>\n",
       "    <tr>\n",
       "      <th>2510</th>\n",
       "      <td>/ddn/gfxhome/asislam25/projects/other_misc_pro...</td>\n",
       "      <td>/ddn/gfxhome/asislam25/projects/other_misc_pro...</td>\n",
       "      <td>1382.jpg</td>\n",
       "      <td>phash</td>\n",
       "      <td>8</td>\n",
       "    </tr>\n",
       "  </tbody>\n",
       "</table>\n",
       "</div>"
      ],
      "text/plain": [
       "                                       ref_kf_path_name  \\\n",
       "1670  /ddn/gfxhome/asislam25/projects/other_misc_pro...   \n",
       "2319  /ddn/gfxhome/asislam25/projects/other_misc_pro...   \n",
       "2320  /ddn/gfxhome/asislam25/projects/other_misc_pro...   \n",
       "2460  /ddn/gfxhome/asislam25/projects/other_misc_pro...   \n",
       "2510  /ddn/gfxhome/asislam25/projects/other_misc_pro...   \n",
       "\n",
       "                                           arch_kf_path arch_kf_name strategy  \\\n",
       "1670  /ddn/gfxhome/asislam25/projects/other_misc_pro...     5864.jpg    phash   \n",
       "2319  /ddn/gfxhome/asislam25/projects/other_misc_pro...    11958.jpg    phash   \n",
       "2320  /ddn/gfxhome/asislam25/projects/other_misc_pro...      164.jpg    phash   \n",
       "2460  /ddn/gfxhome/asislam25/projects/other_misc_pro...     1382.jpg    phash   \n",
       "2510  /ddn/gfxhome/asislam25/projects/other_misc_pro...     1382.jpg    phash   \n",
       "\n",
       "      score  \n",
       "1670     10  \n",
       "2319     10  \n",
       "2320     10  \n",
       "2460     10  \n",
       "2510      8  "
      ]
     },
     "execution_count": 66,
     "metadata": {},
     "output_type": "execute_result"
    }
   ],
   "source": [
    "df_res_us.head()"
   ]
  },
  {
   "cell_type": "code",
   "execution_count": 67,
   "metadata": {},
   "outputs": [],
   "source": [
    "df_res_us[\"ref_vid_name_only\"]=[nm.split(\"/\")[-2] for nm in df_res_us[\"ref_kf_path_name\"]]\n"
   ]
  },
  {
   "cell_type": "code",
   "execution_count": 68,
   "metadata": {},
   "outputs": [],
   "source": [
    "df_res_us[\"arch_vid_name_only\"]=[full_path.split(\"/\")[-1][:-3] for full_path in df_res_us[\"arch_kf_path\"]]"
   ]
  },
  {
   "cell_type": "code",
   "execution_count": 69,
   "metadata": {},
   "outputs": [],
   "source": [
    "df_res_us=df_res_us[[\"ref_vid_name_only\",\"arch_vid_name_only\"]]"
   ]
  },
  {
   "cell_type": "code",
   "execution_count": 70,
   "metadata": {},
   "outputs": [
    {
     "data": {
      "text/html": [
       "<div>\n",
       "<style scoped>\n",
       "    .dataframe tbody tr th:only-of-type {\n",
       "        vertical-align: middle;\n",
       "    }\n",
       "\n",
       "    .dataframe tbody tr th {\n",
       "        vertical-align: top;\n",
       "    }\n",
       "\n",
       "    .dataframe thead th {\n",
       "        text-align: right;\n",
       "    }\n",
       "</style>\n",
       "<table border=\"1\" class=\"dataframe\">\n",
       "  <thead>\n",
       "    <tr style=\"text-align: right;\">\n",
       "      <th></th>\n",
       "      <th>ref_vid_name_only</th>\n",
       "      <th>arch_vid_name_only</th>\n",
       "    </tr>\n",
       "  </thead>\n",
       "  <tbody>\n",
       "    <tr>\n",
       "      <th>1670</th>\n",
       "      <td>c05_202102080735</td>\n",
       "      <td>c09_20210228114527</td>\n",
       "    </tr>\n",
       "    <tr>\n",
       "      <th>2319</th>\n",
       "      <td>c05_202102080735</td>\n",
       "      <td>c09_20210224010425</td>\n",
       "    </tr>\n",
       "    <tr>\n",
       "      <th>2320</th>\n",
       "      <td>c05_202102080735</td>\n",
       "      <td>c09_20210228114527</td>\n",
       "    </tr>\n",
       "    <tr>\n",
       "      <th>2460</th>\n",
       "      <td>c05_202102080735</td>\n",
       "      <td>c09_20210221115250</td>\n",
       "    </tr>\n",
       "    <tr>\n",
       "      <th>2510</th>\n",
       "      <td>c05_202102080735</td>\n",
       "      <td>c09_20210221115250</td>\n",
       "    </tr>\n",
       "  </tbody>\n",
       "</table>\n",
       "</div>"
      ],
      "text/plain": [
       "     ref_vid_name_only  arch_vid_name_only\n",
       "1670  c05_202102080735  c09_20210228114527\n",
       "2319  c05_202102080735  c09_20210224010425\n",
       "2320  c05_202102080735  c09_20210228114527\n",
       "2460  c05_202102080735  c09_20210221115250\n",
       "2510  c05_202102080735  c09_20210221115250"
      ]
     },
     "execution_count": 70,
     "metadata": {},
     "output_type": "execute_result"
    }
   ],
   "source": [
    "df_res_us.head()"
   ]
  },
  {
   "cell_type": "code",
   "execution_count": 71,
   "metadata": {},
   "outputs": [
    {
     "name": "stdout",
     "output_type": "stream",
     "text": [
      "(18, 2)\n",
      "['c09_20210228114527' 'c09_20210224010425' 'c09_20210221115250'\n",
      " 'c09_20210222150519' 'c09_20210228105604' 'c09_20210222174848'\n",
      " 'c09_20210228171844' 'c09_20210221172350' 'c01_20210202195259'\n",
      " 'c09_20210226175156' 'c01_20210205062047' 'c01_20210131062134']\n",
      "[0, 0, 0, 0, 0, 0, 0, 0, 1, 0, 0, 0, 0, 0, 0, 0, 0, 1, 0, 0, 1, 0, 0, 0, 0, 0, 1, 0, 1, 0, 0, 1, 1, 0, 0, 1, 0, 0, 1, 0, 0, 0, 0, 0, 0, 0, 1, 1, 0, 1]\n",
      "(1, 2)\n",
      "['c01_20210201082747']\n",
      "[0, 0, 0, 0, 0, 0, 0, 0, 0, 0, 0, 0, 0, 1, 0, 0, 0, 0, 0, 0, 0, 0, 0, 0, 0, 0, 0, 0, 0, 0, 0, 0, 0, 0, 0, 0, 0, 0, 0, 0, 0, 0, 0, 0, 0, 0, 0, 0, 0, 0]\n",
      "(60, 2)\n",
      "['c01_20210130124857' 'c01_20210130081629' 'c01_20210203062229'\n",
      " 'c09_20210224174314' 'c09_20210228114527' 'c01_20210202062315'\n",
      " 'c01_20210205062047' 'c01_20210202083021' 'c01_20210202195259'\n",
      " 'c09_20210228085036' 'c09_20210224010425' 'c01_20210130124435']\n",
      "[0, 1, 0, 1, 1, 0, 0, 0, 0, 0, 0, 0, 0, 0, 1, 1, 0, 1, 1, 0, 1, 0, 0, 0, 0, 0, 0, 0, 0, 0, 0, 0, 0, 0, 0, 1, 1, 0, 0, 0, 0, 0, 0, 0, 1, 0, 0, 1, 0, 0]\n",
      "(59, 2)\n",
      "['c01_20210210081914' 'c01_20210205062047' 'c01_20210130115216'\n",
      " 'c01_20210130124857' 'c01_20210130081629' 'c01_20210131062134'\n",
      " 'c09_20210224174314' 'c09_20210228114527' 'c09_20210224010425'\n",
      " 'c09_20210228105604' 'c09_20210225175756' 'c01_20210130124435'\n",
      " 'c09_20210222150519' 'c09_20210221204951' 'c09_20210228124351'\n",
      " 'c09_20210222140438' 'c09_20210221125002' 'c01_20210130195400'\n",
      " 'c01_20210130194220']\n",
      "[0, 1, 1, 1, 1, 1, 1, 0, 1, 0, 0, 0, 0, 0, 0, 0, 0, 0, 0, 0, 1, 1, 0, 0, 0, 0, 0, 1, 0, 1, 1, 1, 0, 0, 0, 1, 1, 1, 0, 0, 0, 0, 0, 0, 0, 0, 1, 1, 1, 0]\n",
      "(2, 2)\n",
      "['c09_20210228095443' 'c09_20210221115250']\n",
      "[0, 0, 0, 0, 0, 0, 0, 0, 0, 0, 0, 0, 0, 0, 0, 0, 0, 0, 0, 0, 0, 0, 0, 0, 0, 0, 1, 0, 0, 0, 0, 0, 0, 0, 0, 0, 0, 0, 0, 0, 0, 0, 0, 0, 0, 1, 0, 0, 0, 0]\n",
      "(0, 2)\n",
      "[]\n",
      "[0, 0, 0, 0, 0, 0, 0, 0, 0, 0, 0, 0, 0, 0, 0, 0, 0, 0, 0, 0, 0, 0, 0, 0, 0, 0, 0, 0, 0, 0, 0, 0, 0, 0, 0, 0, 0, 0, 0, 0, 0, 0, 0, 0, 0, 0, 0, 0, 0, 0]\n",
      "(89, 2)\n",
      "['c01_20210202125721' 'c01_20210131125922' 'c01_20210131194822']\n",
      "[0, 0, 0, 0, 0, 0, 0, 0, 0, 0, 1, 1, 0, 0, 0, 0, 1, 0, 0, 0, 0, 0, 0, 0, 0, 0, 0, 0, 0, 0, 0, 0, 0, 0, 0, 0, 0, 0, 0, 0, 0, 0, 0, 0, 0, 0, 0, 0, 0, 0]\n",
      "(56, 2)\n",
      "['c09_20210228114527' 'c01_20210202062315' 'c09_20210223175523'\n",
      " 'c09_20210221172350' 'c09_20210221125002' 'c09_20210227162920'\n",
      " 'c01_20210202083021' 'c09_20210224010425' 'c01_20210202195259'\n",
      " 'c09_20210226175156' 'c01_20210201082747' 'c09_20210228095443']\n",
      "[0, 0, 0, 0, 0, 0, 0, 0, 0, 0, 0, 0, 0, 1, 1, 1, 0, 1, 0, 0, 0, 0, 0, 0, 0, 0, 0, 1, 1, 0, 0, 0, 0, 1, 0, 1, 0, 0, 1, 0, 1, 0, 0, 0, 0, 1, 0, 1, 0, 0]\n",
      "(78, 2)\n",
      "['c01_20210130115216']\n",
      "[0, 0, 1, 0, 0, 0, 0, 0, 0, 0, 0, 0, 0, 0, 0, 0, 0, 0, 0, 0, 0, 0, 0, 0, 0, 0, 0, 0, 0, 0, 0, 0, 0, 0, 0, 0, 0, 0, 0, 0, 0, 0, 0, 0, 0, 0, 0, 0, 0, 0]\n",
      "(0, 2)\n",
      "[]\n",
      "[0, 0, 0, 0, 0, 0, 0, 0, 0, 0, 0, 0, 0, 0, 0, 0, 0, 0, 0, 0, 0, 0, 0, 0, 0, 0, 0, 0, 0, 0, 0, 0, 0, 0, 0, 0, 0, 0, 0, 0, 0, 0, 0, 0, 0, 0, 0, 0, 0, 0]\n",
      "(0, 2)\n",
      "[]\n",
      "[0, 0, 0, 0, 0, 0, 0, 0, 0, 0, 0, 0, 0, 0, 0, 0, 0, 0, 0, 0, 0, 0, 0, 0, 0, 0, 0, 0, 0, 0, 0, 0, 0, 0, 0, 0, 0, 0, 0, 0, 0, 0, 0, 0, 0, 0, 0, 0, 0, 0]\n",
      "(0, 2)\n",
      "[]\n",
      "[0, 0, 0, 0, 0, 0, 0, 0, 0, 0, 0, 0, 0, 0, 0, 0, 0, 0, 0, 0, 0, 0, 0, 0, 0, 0, 0, 0, 0, 0, 0, 0, 0, 0, 0, 0, 0, 0, 0, 0, 0, 0, 0, 0, 0, 0, 0, 0, 0, 0]\n",
      "(3, 2)\n",
      "['c09_20210228085036' 'c09_20210228105604']\n",
      "[0, 0, 0, 0, 0, 0, 0, 0, 0, 0, 0, 0, 0, 0, 0, 0, 0, 0, 0, 0, 0, 0, 0, 0, 0, 0, 0, 0, 0, 0, 0, 0, 0, 0, 0, 0, 0, 0, 0, 0, 0, 0, 0, 0, 1, 0, 1, 0, 0, 0]\n",
      "(1, 2)\n",
      "['c01_20210131062134']\n",
      "[0, 0, 0, 0, 0, 0, 0, 0, 1, 0, 0, 0, 0, 0, 0, 0, 0, 0, 0, 0, 0, 0, 0, 0, 0, 0, 0, 0, 0, 0, 0, 0, 0, 0, 0, 0, 0, 0, 0, 0, 0, 0, 0, 0, 0, 0, 0, 0, 0, 0]\n",
      "(0, 2)\n",
      "[]\n",
      "[0, 0, 0, 0, 0, 0, 0, 0, 0, 0, 0, 0, 0, 0, 0, 0, 0, 0, 0, 0, 0, 0, 0, 0, 0, 0, 0, 0, 0, 0, 0, 0, 0, 0, 0, 0, 0, 0, 0, 0, 0, 0, 0, 0, 0, 0, 0, 0, 0, 0]\n",
      "(69, 2)\n",
      "['c01_20210210081914' 'c01_20210130081629' 'c01_20210201082747']\n",
      "[0, 1, 0, 0, 0, 0, 0, 0, 0, 0, 0, 0, 0, 1, 0, 0, 0, 0, 0, 0, 0, 1, 0, 0, 0, 0, 0, 0, 0, 0, 0, 0, 0, 0, 0, 0, 0, 0, 0, 0, 0, 0, 0, 0, 0, 0, 0, 0, 0, 0]\n",
      "(3, 2)\n",
      "['c09_20210228095443' 'c09_20210227162920']\n",
      "[0, 0, 0, 0, 0, 0, 0, 0, 0, 0, 0, 0, 0, 0, 0, 0, 0, 0, 0, 0, 0, 0, 0, 0, 0, 0, 0, 0, 0, 0, 0, 0, 0, 0, 0, 0, 0, 0, 0, 0, 1, 0, 0, 0, 0, 1, 0, 0, 0, 0]\n",
      "(0, 2)\n",
      "[]\n",
      "[0, 0, 0, 0, 0, 0, 0, 0, 0, 0, 0, 0, 0, 0, 0, 0, 0, 0, 0, 0, 0, 0, 0, 0, 0, 0, 0, 0, 0, 0, 0, 0, 0, 0, 0, 0, 0, 0, 0, 0, 0, 0, 0, 0, 0, 0, 0, 0, 0, 0]\n",
      "(136, 2)\n",
      "['c01_20210203062229' 'c01_20210205062047' 'c01_20210204062142'\n",
      " 'c01_20210130063213' 'c09_20210228124351' 'c01_20210131062134'\n",
      " 'c01_20210130115216' 'c05_20210203202303' 'c01_20210202083021'\n",
      " 'c09_20210223204726' 'c01_20210130081629' 'c09_20210228114527'\n",
      " 'c09_20210221115250']\n",
      "[1, 1, 1, 0, 0, 0, 0, 0, 1, 0, 0, 0, 0, 0, 0, 1, 0, 0, 1, 1, 1, 0, 1, 0, 0, 0, 1, 0, 0, 0, 0, 0, 0, 0, 1, 0, 0, 0, 0, 0, 0, 0, 0, 0, 0, 0, 0, 1, 1, 0]\n",
      "(11, 2)\n",
      "['c09_20210222140438' 'c01_20210130195400' 'c09_20210225175756'\n",
      " 'c09_20210228124351' 'c09_20210222150519' 'c09_20210223175523'\n",
      " 'c09_20210221204951']\n",
      "[0, 0, 0, 0, 0, 0, 1, 0, 0, 0, 0, 0, 0, 0, 0, 0, 0, 0, 0, 0, 0, 0, 0, 0, 0, 0, 0, 0, 0, 1, 1, 1, 0, 1, 0, 0, 0, 1, 0, 0, 0, 0, 0, 0, 0, 0, 0, 0, 1, 0]\n",
      "(33, 2)\n",
      "['c01_20210131194822' 'c01_20210130194220' 'c01_20210130124435']\n",
      "[0, 0, 0, 1, 0, 1, 0, 0, 0, 0, 0, 1, 0, 0, 0, 0, 0, 0, 0, 0, 0, 0, 0, 0, 0, 0, 0, 0, 0, 0, 0, 0, 0, 0, 0, 0, 0, 0, 0, 0, 0, 0, 0, 0, 0, 0, 0, 0, 0, 0]\n",
      "(0, 2)\n",
      "[]\n",
      "[0, 0, 0, 0, 0, 0, 0, 0, 0, 0, 0, 0, 0, 0, 0, 0, 0, 0, 0, 0, 0, 0, 0, 0, 0, 0, 0, 0, 0, 0, 0, 0, 0, 0, 0, 0, 0, 0, 0, 0, 0, 0, 0, 0, 0, 0, 0, 0, 0, 0]\n",
      "(4, 2)\n",
      "['c01_20210202062315']\n",
      "[0, 0, 0, 0, 0, 0, 0, 0, 0, 0, 0, 0, 0, 0, 1, 0, 0, 0, 0, 0, 0, 0, 0, 0, 0, 0, 0, 0, 0, 0, 0, 0, 0, 0, 0, 0, 0, 0, 0, 0, 0, 0, 0, 0, 0, 0, 0, 0, 0, 0]\n",
      "(0, 2)\n",
      "[]\n",
      "[0, 0, 0, 0, 0, 0, 0, 0, 0, 0, 0, 0, 0, 0, 0, 0, 0, 0, 0, 0, 0, 0, 0, 0, 0, 0, 0, 0, 0, 0, 0, 0, 0, 0, 0, 0, 0, 0, 0, 0, 0, 0, 0, 0, 0, 0, 0, 0, 0, 0]\n",
      "(170, 2)\n",
      "['c01_20210210081914' 'c01_20210130195400' 'c01_20210131194822'\n",
      " 'c01_20210131125108' 'c09_20210228105604' 'c09_20210228124351'\n",
      " 'c09_20210221204951' 'c09_20210228085036' 'c09_20210221125002'\n",
      " 'c01_20210130124857' 'c01_20210201082747' 'c01_20210130210232'\n",
      " 'c01_20210202195259' 'c09_20210222140438' 'c01_20210131205546']\n",
      "[0, 0, 0, 0, 1, 0, 1, 1, 0, 1, 0, 1, 1, 1, 0, 0, 0, 1, 0, 0, 0, 1, 0, 0, 0, 0, 0, 1, 0, 1, 1, 0, 0, 0, 0, 0, 0, 0, 0, 0, 0, 0, 0, 0, 1, 0, 1, 0, 1, 0]\n",
      "(0, 2)\n",
      "[]\n",
      "[0, 0, 0, 0, 0, 0, 0, 0, 0, 0, 0, 0, 0, 0, 0, 0, 0, 0, 0, 0, 0, 0, 0, 0, 0, 0, 0, 0, 0, 0, 0, 0, 0, 0, 0, 0, 0, 0, 0, 0, 0, 0, 0, 0, 0, 0, 0, 0, 0, 0]\n",
      "(0, 2)\n",
      "[]\n",
      "[0, 0, 0, 0, 0, 0, 0, 0, 0, 0, 0, 0, 0, 0, 0, 0, 0, 0, 0, 0, 0, 0, 0, 0, 0, 0, 0, 0, 0, 0, 0, 0, 0, 0, 0, 0, 0, 0, 0, 0, 0, 0, 0, 0, 0, 0, 0, 0, 0, 0]\n",
      "(1, 2)\n",
      "['c09_20210222174848']\n",
      "[0, 0, 0, 0, 0, 0, 0, 0, 0, 0, 0, 0, 0, 0, 0, 0, 0, 0, 0, 0, 0, 0, 0, 0, 0, 0, 0, 0, 0, 0, 0, 0, 1, 0, 0, 0, 0, 0, 0, 0, 0, 0, 0, 0, 0, 0, 0, 0, 0, 0]\n",
      "(69, 2)\n",
      "['c09_20210227162920' 'c01_20210131062134' 'c09_20210221115250'\n",
      " 'c09_20210228105604' 'c09_20210228124351' 'c09_20210222150519'\n",
      " 'c09_20210221204951' 'c01_20210202062315' 'c09_20210228085036'\n",
      " 'c09_20210221125002' 'c09_20210223175523' 'c01_20210205062047'\n",
      " 'c01_20210210081914' 'c09_20210224010425' 'c01_20210202083021']\n",
      "[0, 0, 0, 0, 0, 0, 0, 0, 1, 0, 0, 0, 0, 0, 1, 1, 0, 0, 0, 0, 1, 1, 0, 0, 0, 0, 1, 1, 0, 1, 0, 1, 0, 1, 0, 1, 0, 0, 0, 0, 1, 0, 0, 0, 1, 0, 1, 0, 1, 0]\n",
      "(7, 2)\n",
      "['c09_20210224010425' 'c09_20210228085036' 'c01_20210203062229'\n",
      " 'c01_20210205062047']\n",
      "[0, 0, 0, 0, 0, 0, 0, 0, 0, 0, 0, 0, 0, 0, 0, 0, 0, 0, 1, 0, 1, 0, 0, 0, 0, 0, 0, 0, 0, 0, 0, 0, 0, 0, 0, 1, 0, 0, 0, 0, 0, 0, 0, 0, 1, 0, 0, 0, 0, 0]\n"
     ]
    }
   ],
   "source": [
    "# now to calculate the scores\n",
    "my_calculations={}\n",
    "my_calculations[\"reference_video\"]=[]\n",
    "my_calculations[\"score_array\"]=[]\n",
    "my_calculations[\"archive_videos\"]=[]\n",
    "\n",
    "for a_vid in reference_location_video_names_only:\n",
    "    df_chosen=df_res_us[df_res_us[\"ref_vid_name_only\"]==a_vid]\n",
    "    print(df_chosen.shape)\n",
    "    uniq_archives=df_chosen[\"arch_vid_name_only\"].unique()\n",
    "    print(uniq_archives)\n",
    "    scores=[]\n",
    "    for arch_vid in archive_location_video_names_only:\n",
    "        if arch_vid in uniq_archives:\n",
    "            scores.append(1)\n",
    "        else:\n",
    "            scores.append(0)\n",
    "    print(scores)\n",
    "    my_calculations[\"reference_video\"].append(a_vid)\n",
    "    my_calculations[\"score_array\"].append(scores)\n",
    "    my_calculations[\"archive_videos\"].append(archive_location_video_names_only)"
   ]
  },
  {
   "cell_type": "code",
   "execution_count": 72,
   "metadata": {},
   "outputs": [],
   "source": [
    "df_my_res=pd.DataFrame(my_calculations)"
   ]
  },
  {
   "cell_type": "code",
   "execution_count": 73,
   "metadata": {},
   "outputs": [
    {
     "data": {
      "text/html": [
       "<div>\n",
       "<style scoped>\n",
       "    .dataframe tbody tr th:only-of-type {\n",
       "        vertical-align: middle;\n",
       "    }\n",
       "\n",
       "    .dataframe tbody tr th {\n",
       "        vertical-align: top;\n",
       "    }\n",
       "\n",
       "    .dataframe thead th {\n",
       "        text-align: right;\n",
       "    }\n",
       "</style>\n",
       "<table border=\"1\" class=\"dataframe\">\n",
       "  <thead>\n",
       "    <tr style=\"text-align: right;\">\n",
       "      <th></th>\n",
       "      <th>reference_video</th>\n",
       "      <th>score_array</th>\n",
       "      <th>archive_videos</th>\n",
       "    </tr>\n",
       "  </thead>\n",
       "  <tbody>\n",
       "    <tr>\n",
       "      <th>0</th>\n",
       "      <td>c05_202102080735</td>\n",
       "      <td>[0, 0, 0, 0, 0, 0, 0, 0, 1, 0, 0, 0, 0, 0, 0, ...</td>\n",
       "      <td>[c01_20210130063213, c01_20210130081629, c01_2...</td>\n",
       "    </tr>\n",
       "    <tr>\n",
       "      <th>1</th>\n",
       "      <td>c03_202102071755</td>\n",
       "      <td>[0, 0, 0, 0, 0, 0, 0, 0, 0, 0, 0, 0, 0, 1, 0, ...</td>\n",
       "      <td>[c01_20210130063213, c01_20210130081629, c01_2...</td>\n",
       "    </tr>\n",
       "    <tr>\n",
       "      <th>2</th>\n",
       "      <td>c05_202101300845</td>\n",
       "      <td>[0, 1, 0, 1, 1, 0, 0, 0, 0, 0, 0, 0, 0, 0, 1, ...</td>\n",
       "      <td>[c01_20210130063213, c01_20210130081629, c01_2...</td>\n",
       "    </tr>\n",
       "    <tr>\n",
       "      <th>3</th>\n",
       "      <td>c01_202102140630</td>\n",
       "      <td>[0, 1, 1, 1, 1, 1, 1, 0, 1, 0, 0, 0, 0, 0, 0, ...</td>\n",
       "      <td>[c01_20210130063213, c01_20210130081629, c01_2...</td>\n",
       "    </tr>\n",
       "    <tr>\n",
       "      <th>4</th>\n",
       "      <td>c05_202102012240</td>\n",
       "      <td>[0, 0, 0, 0, 0, 0, 0, 0, 0, 0, 0, 0, 0, 0, 0, ...</td>\n",
       "      <td>[c01_20210130063213, c01_20210130081629, c01_2...</td>\n",
       "    </tr>\n",
       "  </tbody>\n",
       "</table>\n",
       "</div>"
      ],
      "text/plain": [
       "    reference_video                                        score_array  \\\n",
       "0  c05_202102080735  [0, 0, 0, 0, 0, 0, 0, 0, 1, 0, 0, 0, 0, 0, 0, ...   \n",
       "1  c03_202102071755  [0, 0, 0, 0, 0, 0, 0, 0, 0, 0, 0, 0, 0, 1, 0, ...   \n",
       "2  c05_202101300845  [0, 1, 0, 1, 1, 0, 0, 0, 0, 0, 0, 0, 0, 0, 1, ...   \n",
       "3  c01_202102140630  [0, 1, 1, 1, 1, 1, 1, 0, 1, 0, 0, 0, 0, 0, 0, ...   \n",
       "4  c05_202102012240  [0, 0, 0, 0, 0, 0, 0, 0, 0, 0, 0, 0, 0, 0, 0, ...   \n",
       "\n",
       "                                      archive_videos  \n",
       "0  [c01_20210130063213, c01_20210130081629, c01_2...  \n",
       "1  [c01_20210130063213, c01_20210130081629, c01_2...  \n",
       "2  [c01_20210130063213, c01_20210130081629, c01_2...  \n",
       "3  [c01_20210130063213, c01_20210130081629, c01_2...  \n",
       "4  [c01_20210130063213, c01_20210130081629, c01_2...  "
      ]
     },
     "execution_count": 73,
     "metadata": {},
     "output_type": "execute_result"
    }
   ],
   "source": [
    "df_my_res.head()"
   ]
  },
  {
   "cell_type": "code",
   "execution_count": 74,
   "metadata": {},
   "outputs": [],
   "source": [
    "df_my_res.to_csv(\"../results/our_calcul.csv\",index=False)"
   ]
  },
  {
   "cell_type": "markdown",
   "metadata": {},
   "source": [
    "### Compare and calculate the scores"
   ]
  },
  {
   "cell_type": "code",
   "execution_count": 75,
   "metadata": {},
   "outputs": [],
   "source": [
    "df_given=pd.read_csv(\"../results/computer_says.csv\")\n",
    "df_calculated=pd.read_csv(\"../results/our_calcul.csv\")"
   ]
  },
  {
   "cell_type": "code",
   "execution_count": 76,
   "metadata": {},
   "outputs": [
    {
     "name": "stdout",
     "output_type": "stream",
     "text": [
      "c05_202102080735 0.7659574468085106\n",
      "c03_202102071755 0.9787234042553191\n",
      "c05_202101300845 0.7446808510638298\n",
      "c01_202102140630 0.6170212765957447\n",
      "c05_202102012240 0.9574468085106383\n",
      "c01_202102260630 1.0\n",
      "c01_202101301300 0.9787234042553191\n",
      "c05_202102010750 0.7446808510638298\n",
      "c01_202101301200 1.0\n",
      "c02_202101301300 1.0\n",
      "c02_202102120045 1.0\n",
      "c07_202102141735 1.0\n",
      "c05_202101302220 0.9574468085106383\n",
      "c05_202101311955 0.9787234042553191\n",
      "c08_202102021331 1.0\n",
      "c01_202101300810 0.9787234042553191\n",
      "c05_202101301900 0.9574468085106383\n",
      "c03_202101301615 1.0\n",
      "c01_202101300630 0.8297872340425532\n",
      "c06_202102010850 0.8723404255319149\n",
      "c01_202101301250 1.0\n",
      "c01_202101311605 1.0\n",
      "c05_202101311340 0.9787234042553191\n",
      "c03_202102031825 1.0\n",
      "c01_202101301255 0.8936170212765957\n",
      "c02_202102131320 1.0\n",
      "c03_202101300720 1.0\n",
      "c03_202102021700 0.9787234042553191\n",
      "c01_202102141015 0.7021276595744681\n",
      "c06_202102052105 0.9148936170212766\n",
      "Average accuracy is  0.9276595744680853\n"
     ]
    }
   ],
   "source": [
    "reference_vids=list(df_given.reference_video)\n",
    "avg_acc=0\n",
    "for vid in reference_vids:\n",
    "    df_given_vid=df_given[df_given[\"reference_video\"]==vid]\n",
    "    df_calculated_vid=df_calculated[df_calculated[\"reference_video\"]==vid]\n",
    "#     print(df_given_vid.shape,df_calculated_vid.shape)\n",
    "\n",
    "    comp_array=list(df_given_vid[\"score_array\"])[0].split(\",\")\n",
    "    comp_array=comp_array[1:-2]    \n",
    "    comp_array=[int(v) for v in comp_array]\n",
    "    comp_array=np.asarray(comp_array)\n",
    "    \n",
    "    calc_array=list(df_calculated_vid[\"score_array\"])[0].split(\",\")\n",
    "    calc_array=calc_array[1:-2]    \n",
    "    calc_array=[int(v) for v in calc_array]\n",
    "    calc_array=np.asarray(calc_array)\n",
    "\n",
    "    acc=accuracy_score(calc_array,comp_array)\n",
    "    avg_acc+=acc\n",
    "    print(vid,acc)\n",
    "avg_acc=avg_acc/len(reference_vids)\n",
    "\n",
    "print(\"Average accuracy is \",avg_acc)\n",
    "    "
   ]
  },
  {
   "cell_type": "code",
   "execution_count": null,
   "metadata": {},
   "outputs": [],
   "source": []
  },
  {
   "cell_type": "code",
   "execution_count": null,
   "metadata": {},
   "outputs": [],
   "source": []
  }
 ],
 "metadata": {
  "kernelspec": {
   "display_name": "prune_kernel",
   "language": "python",
   "name": "prune_kernel"
  },
  "language_info": {
   "codemirror_mode": {
    "name": "ipython",
    "version": 3
   },
   "file_extension": ".py",
   "mimetype": "text/x-python",
   "name": "python",
   "nbconvert_exporter": "python",
   "pygments_lexer": "ipython3",
   "version": "3.8.11"
  }
 },
 "nbformat": 4,
 "nbformat_minor": 5
}
