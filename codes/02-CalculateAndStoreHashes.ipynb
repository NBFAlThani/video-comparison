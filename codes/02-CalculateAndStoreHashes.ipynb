{
 "cells": [
  {
   "cell_type": "code",
   "execution_count": 1,
   "metadata": {},
   "outputs": [],
   "source": [
    "\n",
    "import cv2\n",
    "import os\n",
    "import image_similarity_measures\n",
    "from sys import argv\n",
    "from image_similarity_measures.quality_metrics import rmse, ssim, sre\n",
    "import numpy as np\n",
    "import pandas as pd\n",
    "import csv\n",
    "import datetime\n",
    "# get_ipython().run_line_magic('matplotlib', 'inline')\n",
    "#The line above is necesary to show Matplotlib's plots inside a Jupyter Notebook\n",
    "from matplotlib import pyplot as plt\n",
    "import pickle\n",
    "\n",
    "import imagehash\n",
    "from PIL import Image\n"
   ]
  },
  {
   "cell_type": "code",
   "execution_count": 2,
   "metadata": {},
   "outputs": [
    {
     "name": "stdout",
     "output_type": "stream",
     "text": [
      "['/ddn/gfxhome/asislam25/projects/other_misc_projects/video_copy/intermediate/keyframes/c05_202102080735', '/ddn/gfxhome/asislam25/projects/other_misc_projects/video_copy/intermediate/keyframes/c03_202102071755', '/ddn/gfxhome/asislam25/projects/other_misc_projects/video_copy/intermediate/keyframes/c05_202101300845', '/ddn/gfxhome/asislam25/projects/other_misc_projects/video_copy/intermediate/keyframes/c01_202102140630', '/ddn/gfxhome/asislam25/projects/other_misc_projects/video_copy/intermediate/keyframes/c05_202102012240', '/ddn/gfxhome/asislam25/projects/other_misc_projects/video_copy/intermediate/keyframes/c01_202102260630', '/ddn/gfxhome/asislam25/projects/other_misc_projects/video_copy/intermediate/keyframes/c01_202101301300', '/ddn/gfxhome/asislam25/projects/other_misc_projects/video_copy/intermediate/keyframes/c05_202102010750', '/ddn/gfxhome/asislam25/projects/other_misc_projects/video_copy/intermediate/keyframes/c01_202101301200', '/ddn/gfxhome/asislam25/projects/other_misc_projects/video_copy/intermediate/keyframes/c02_202101301300', '/ddn/gfxhome/asislam25/projects/other_misc_projects/video_copy/intermediate/keyframes/c02_202102120045', '/ddn/gfxhome/asislam25/projects/other_misc_projects/video_copy/intermediate/keyframes/c07_202102141735', '/ddn/gfxhome/asislam25/projects/other_misc_projects/video_copy/intermediate/keyframes/c05_202101302220', '/ddn/gfxhome/asislam25/projects/other_misc_projects/video_copy/intermediate/keyframes/c05_202101311955', '/ddn/gfxhome/asislam25/projects/other_misc_projects/video_copy/intermediate/keyframes/c08_202102021331', '/ddn/gfxhome/asislam25/projects/other_misc_projects/video_copy/intermediate/keyframes/c01_202101300810', '/ddn/gfxhome/asislam25/projects/other_misc_projects/video_copy/intermediate/keyframes/c05_202101301900', '/ddn/gfxhome/asislam25/projects/other_misc_projects/video_copy/intermediate/keyframes/c03_202101301615', '/ddn/gfxhome/asislam25/projects/other_misc_projects/video_copy/intermediate/keyframes/c01_202101300630', '/ddn/gfxhome/asislam25/projects/other_misc_projects/video_copy/intermediate/keyframes/c06_202102010850', '/ddn/gfxhome/asislam25/projects/other_misc_projects/video_copy/intermediate/keyframes/c01_202101301250', '/ddn/gfxhome/asislam25/projects/other_misc_projects/video_copy/intermediate/keyframes/c01_202101311605', '/ddn/gfxhome/asislam25/projects/other_misc_projects/video_copy/intermediate/keyframes/c05_202101311340', '/ddn/gfxhome/asislam25/projects/other_misc_projects/video_copy/intermediate/keyframes/c03_202102031825', '/ddn/gfxhome/asislam25/projects/other_misc_projects/video_copy/intermediate/keyframes/c01_202101301255', '/ddn/gfxhome/asislam25/projects/other_misc_projects/video_copy/intermediate/keyframes/c02_202102131320', '/ddn/gfxhome/asislam25/projects/other_misc_projects/video_copy/intermediate/keyframes/c03_202101300720', '/ddn/gfxhome/asislam25/projects/other_misc_projects/video_copy/intermediate/keyframes/c03_202102021700', '/ddn/gfxhome/asislam25/projects/other_misc_projects/video_copy/intermediate/keyframes/c01_202102141015', '/ddn/gfxhome/asislam25/projects/other_misc_projects/video_copy/intermediate/keyframes/c06_202102052105'] 30\n"
     ]
    }
   ],
   "source": [
    "reference_locations=[]\n",
    "path_to_ref=\"/ddn/gfxhome/asislam25/projects/other_misc_projects/video_copy/data/references/\"\n",
    "path_to_ref_kf=\"/ddn/gfxhome/asislam25/projects/other_misc_projects/video_copy/intermediate/keyframes/\"\n",
    "for f in os.listdir(path_to_ref):\n",
    "    f=f.split(\".\")[0]\n",
    "    reference_locations.append(path_to_ref_kf+f)\n",
    "    \n",
    "print(reference_locations,len(reference_locations))\n"
   ]
  },
  {
   "cell_type": "code",
   "execution_count": 3,
   "metadata": {},
   "outputs": [],
   "source": [
    "intermediate_location=\"../intermediate/\"\n",
    "if not os.path.isdir(intermediate_location):\n",
    "    os.mkdir(intermediate_location)\n",
    "hash_location=intermediate_location+\"hash_values/\"\n",
    "if not os.path.isdir(hash_location):\n",
    "    os.mkdir(resized_location)\n",
    "\n",
    "hash_location=hash_location+\"phash/\"\n",
    "if not os.path.isdir(hash_location):\n",
    "    os.mkdir(resized_location)\n",
    "    \n",
    "dic_location=hash_location+\"dic_vals.p\"    \n",
    "\n",
    "if not os.path.isfile(dic_location):\n",
    "    dic_hash_vals={}\n",
    "else:\n",
    "    dic_hash_vals = pickle.load( open( dic_location, \"rb\" ) )\n",
    "\n",
    "\n",
    "\n",
    "\n",
    "\n",
    "\n",
    "\n"
   ]
  },
  {
   "cell_type": "code",
   "execution_count": 4,
   "metadata": {},
   "outputs": [
    {
     "data": {
      "text/plain": [
       "37"
      ]
     },
     "execution_count": 4,
     "metadata": {},
     "output_type": "execute_result"
    }
   ],
   "source": [
    "len(dic_hash_vals.keys())"
   ]
  },
  {
   "cell_type": "code",
   "execution_count": 5,
   "metadata": {},
   "outputs": [
    {
     "name": "stdout",
     "output_type": "stream",
     "text": [
      "hash already generated for  c03_202102071755\n",
      "hash already generated for  c01_202101301300\n",
      "hash already generated for  c01_202101301200\n",
      "hash already generated for  c02_202101301300\n",
      "hash already generated for  c08_202102021331\n",
      "hash already generated for  c01_202101300810\n",
      "hash already generated for  c05_202101301900\n",
      "hash already generated for  c01_202101300630\n",
      "hash already generated for  c06_202102010850\n",
      "hash already generated for  c01_202101301250\n",
      "hash already generated for  c01_202101301255\n"
     ]
    }
   ],
   "source": [
    "\n",
    "for reference_location_path in reference_locations:\n",
    "    ref_file_frames_list=os.listdir(reference_location_path)\n",
    "    file_name=reference_location_path.split(\"/\")[-1]\n",
    "    if file_name in dic_hash_vals:\n",
    "        print(\"hash already generated for \",file_name)\n",
    "        continue\n",
    "    dic_hash_vals[file_name]={}\n",
    "#     print(reference_location_path,file_name,ref_file_frames_list)\n",
    "    for frame_name in ref_file_frames_list:\n",
    "        f=os.path.join(reference_location_path,frame_name)\n",
    "        hash_val=imagehash.phash(Image.open(f))\n",
    "#         print(f,hash_val)\n",
    "        dic_hash_vals[file_name][frame_name]=hash_val"
   ]
  },
  {
   "cell_type": "code",
   "execution_count": 6,
   "metadata": {},
   "outputs": [
    {
     "data": {
      "text/plain": [
       "dict_keys(['c03_202102071755', 'c01_202101301300', 'c01_202101301200', 'c02_202101301300', 'c08_202102021331', 'c01_202101300810', 'c05_202101301900', 'c01_202101300630', 'c06_202102010850', 'c01_202101301250', 'c01_202101301255', 'c09_20210210135939_C2', 'c01_20210203062229_C4', 'c01_20210205062047_C4', 'c01_20210210081914_C3', 'c01_20210131062134_C1', 'c05_20210203202303_C1', 'c01_20210130210232_C4', 'c01_20210130124435_C1', 'c01_20210131205546_C2', 'c01_20210130063213_C2', 'c01_20210202125721_C4', 'c01_20210130115216_C3', 'c05_20210205081528_C1', 'c01_20210202195259_C1', 'c01_20210131125108_C2', 'c01_20210202083021_C1', 'c01_20210130124857_C2', 'c01_20210131125922_C2', 'c01_20210130195400_C4', 'c01_20210130081629_C3', 'c01_20210204062142_C4', 'c09_20210204140043_C4', 'c01_20210131194822_C3', 'c01_20210201082747_C1', 'c01_20210202062315_C1', 'c01_20210130194220_C2', 'c05_202102080735', 'c05_202101300845', 'c01_202102140630', 'c05_202102012240', 'c01_202102260630', 'c05_202102010750', 'c02_202102120045', 'c07_202102141735', 'c05_202101302220', 'c05_202101311955', 'c03_202101301615', 'c01_202101311605', 'c05_202101311340', 'c03_202102031825', 'c02_202102131320', 'c03_202101300720', 'c03_202102021700', 'c01_202102141015', 'c06_202102052105'])"
      ]
     },
     "execution_count": 6,
     "metadata": {},
     "output_type": "execute_result"
    }
   ],
   "source": [
    "dic_hash_vals.keys()"
   ]
  },
  {
   "cell_type": "code",
   "execution_count": 7,
   "metadata": {},
   "outputs": [],
   "source": [
    "# dic_hash_vals"
   ]
  },
  {
   "cell_type": "code",
   "execution_count": 8,
   "metadata": {},
   "outputs": [
    {
     "name": "stdout",
     "output_type": "stream",
     "text": [
      "['/ddn/gfxhome/asislam25/projects/other_misc_projects/video_copy/intermediate/keyframes/c09_20210210135939_C2', '/ddn/gfxhome/asislam25/projects/other_misc_projects/video_copy/intermediate/keyframes/c01_20210203062229_C4', '/ddn/gfxhome/asislam25/projects/other_misc_projects/video_copy/intermediate/keyframes/c01_20210205062047_C4', '/ddn/gfxhome/asislam25/projects/other_misc_projects/video_copy/intermediate/keyframes/c09_20210222174848_C1', '/ddn/gfxhome/asislam25/projects/other_misc_projects/video_copy/intermediate/keyframes/c09_20210227162920_C1', '/ddn/gfxhome/asislam25/projects/other_misc_projects/video_copy/intermediate/keyframes/c01_20210210081914_C3', '/ddn/gfxhome/asislam25/projects/other_misc_projects/video_copy/intermediate/keyframes/c01_20210131062134_C1', '/ddn/gfxhome/asislam25/projects/other_misc_projects/video_copy/intermediate/keyframes/c09_20210224174314_C2', '/ddn/gfxhome/asislam25/projects/other_misc_projects/video_copy/intermediate/keyframes/c05_20210203202303_C1', '/ddn/gfxhome/asislam25/projects/other_misc_projects/video_copy/intermediate/keyframes/c01_20210130210232_C4', '/ddn/gfxhome/asislam25/projects/other_misc_projects/video_copy/intermediate/keyframes/c09_20210221115250_C2', '/ddn/gfxhome/asislam25/projects/other_misc_projects/video_copy/intermediate/keyframes/c09_20210227211344_C1', '/ddn/gfxhome/asislam25/projects/other_misc_projects/video_copy/intermediate/keyframes/c09_20210225175756_C2', '/ddn/gfxhome/asislam25/projects/other_misc_projects/video_copy/intermediate/keyframes/c01_20210130124435_C1', '/ddn/gfxhome/asislam25/projects/other_misc_projects/video_copy/intermediate/keyframes/c01_20210131205546_C2', '/ddn/gfxhome/asislam25/projects/other_misc_projects/video_copy/intermediate/keyframes/c09_20210228105604_C4', '/ddn/gfxhome/asislam25/projects/other_misc_projects/video_copy/intermediate/keyframes/c09_20210228124351_C2', '/ddn/gfxhome/asislam25/projects/other_misc_projects/video_copy/intermediate/keyframes/c01_20210130063213_C2', '/ddn/gfxhome/asislam25/projects/other_misc_projects/video_copy/intermediate/keyframes/c01_20210202125721_C4', '/ddn/gfxhome/asislam25/projects/other_misc_projects/video_copy/intermediate/keyframes/c09_20210224010425_C1', '/ddn/gfxhome/asislam25/projects/other_misc_projects/video_copy/intermediate/keyframes/c09_20210228114527_C1', '/ddn/gfxhome/asislam25/projects/other_misc_projects/video_copy/intermediate/keyframes/c01_20210130115216_C3', '/ddn/gfxhome/asislam25/projects/other_misc_projects/video_copy/intermediate/keyframes/c09_20210228095443_C1', '/ddn/gfxhome/asislam25/projects/other_misc_projects/video_copy/intermediate/keyframes/c05_20210205081528_C1', '/ddn/gfxhome/asislam25/projects/other_misc_projects/video_copy/intermediate/keyframes/c01_20210202195259_C1', '/ddn/gfxhome/asislam25/projects/other_misc_projects/video_copy/intermediate/keyframes/c01_20210131125108_C2', '/ddn/gfxhome/asislam25/projects/other_misc_projects/video_copy/intermediate/keyframes/c01_20210202083021_C1', '/ddn/gfxhome/asislam25/projects/other_misc_projects/video_copy/intermediate/keyframes/c09_20210222150519_C3', '/ddn/gfxhome/asislam25/projects/other_misc_projects/video_copy/intermediate/keyframes/c09_20210223175523_C3', '/ddn/gfxhome/asislam25/projects/other_misc_projects/video_copy/intermediate/keyframes/c01_20210130124857_C2', '/ddn/gfxhome/asislam25/projects/other_misc_projects/video_copy/intermediate/keyframes/c01_20210131125922_C2', '/ddn/gfxhome/asislam25/projects/other_misc_projects/video_copy/intermediate/keyframes/c09_20210226175156_C1', '/ddn/gfxhome/asislam25/projects/other_misc_projects/video_copy/intermediate/keyframes/c09_20210222140438_C2', '/ddn/gfxhome/asislam25/projects/other_misc_projects/video_copy/intermediate/keyframes/c09_20210221204951_C3', '/ddn/gfxhome/asislam25/projects/other_misc_projects/video_copy/intermediate/keyframes/c09_20210226230422_C2', '/ddn/gfxhome/asislam25/projects/other_misc_projects/video_copy/intermediate/keyframes/c09_20210223204726_C4', '/ddn/gfxhome/asislam25/projects/other_misc_projects/video_copy/intermediate/keyframes/c09_20210227224952_C4', '/ddn/gfxhome/asislam25/projects/other_misc_projects/video_copy/intermediate/keyframes/c01_20210130195400_C4', '/ddn/gfxhome/asislam25/projects/other_misc_projects/video_copy/intermediate/keyframes/c01_20210130081629_C3', '/ddn/gfxhome/asislam25/projects/other_misc_projects/video_copy/intermediate/keyframes/c01_20210204062142_C4', '/ddn/gfxhome/asislam25/projects/other_misc_projects/video_copy/intermediate/keyframes/c09_20210227193611_C3', '/ddn/gfxhome/asislam25/projects/other_misc_projects/video_copy/intermediate/keyframes/c09_20210228171844_C2', '/ddn/gfxhome/asislam25/projects/other_misc_projects/video_copy/intermediate/keyframes/c09_20210204140043_C4', '/ddn/gfxhome/asislam25/projects/other_misc_projects/video_copy/intermediate/keyframes/c01_20210131194822_C3', '/ddn/gfxhome/asislam25/projects/other_misc_projects/video_copy/intermediate/keyframes/c01_20210201082747_C1', '/ddn/gfxhome/asislam25/projects/other_misc_projects/video_copy/intermediate/keyframes/c01_20210202062315_C1', '/ddn/gfxhome/asislam25/projects/other_misc_projects/video_copy/intermediate/keyframes/c09_20210228085036_C3', '/ddn/gfxhome/asislam25/projects/other_misc_projects/video_copy/intermediate/keyframes/c09_20210221125002_C2', '/ddn/gfxhome/asislam25/projects/other_misc_projects/video_copy/intermediate/keyframes/c09_20210221172350_C4', '/ddn/gfxhome/asislam25/projects/other_misc_projects/video_copy/intermediate/keyframes/c01_20210130194220_C2'] 50\n"
     ]
    }
   ],
   "source": [
    "archive_locations=[]\n",
    "path_to_archive=\"/ddn/gfxhome/asislam25/projects/other_misc_projects/video_copy/data/setC/positive-c.zip/\"\n",
    "path_to_archive_kf=\"/ddn/gfxhome/asislam25/projects/other_misc_projects/video_copy/intermediate/keyframes/\"\n",
    "for f in os.listdir(path_to_archive):\n",
    "    f=f.split(\".\")[0]\n",
    "\n",
    "    archive_locations.append(path_to_archive_kf+f)\n",
    "    \n",
    "print(archive_locations,len(archive_locations))    "
   ]
  },
  {
   "cell_type": "code",
   "execution_count": 9,
   "metadata": {},
   "outputs": [
    {
     "name": "stdout",
     "output_type": "stream",
     "text": [
      "hash already generated for  c09_20210210135939_C2\n",
      "hash already generated for  c01_20210203062229_C4\n",
      "hash already generated for  c01_20210205062047_C4\n",
      "/ddn/gfxhome/asislam25/projects/other_misc_projects/video_copy/intermediate/keyframes/c09_20210222174848_C1 c09_20210222174848_C1\n",
      "/ddn/gfxhome/asislam25/projects/other_misc_projects/video_copy/intermediate/keyframes/c09_20210227162920_C1 c09_20210227162920_C1\n",
      "hash already generated for  c01_20210210081914_C3\n",
      "hash already generated for  c01_20210131062134_C1\n",
      "/ddn/gfxhome/asislam25/projects/other_misc_projects/video_copy/intermediate/keyframes/c09_20210224174314_C2 c09_20210224174314_C2\n",
      "hash already generated for  c05_20210203202303_C1\n",
      "hash already generated for  c01_20210130210232_C4\n",
      "/ddn/gfxhome/asislam25/projects/other_misc_projects/video_copy/intermediate/keyframes/c09_20210221115250_C2 c09_20210221115250_C2\n",
      "/ddn/gfxhome/asislam25/projects/other_misc_projects/video_copy/intermediate/keyframes/c09_20210227211344_C1 c09_20210227211344_C1\n",
      "/ddn/gfxhome/asislam25/projects/other_misc_projects/video_copy/intermediate/keyframes/c09_20210225175756_C2 c09_20210225175756_C2\n",
      "hash already generated for  c01_20210130124435_C1\n",
      "hash already generated for  c01_20210131205546_C2\n",
      "/ddn/gfxhome/asislam25/projects/other_misc_projects/video_copy/intermediate/keyframes/c09_20210228105604_C4 c09_20210228105604_C4\n",
      "/ddn/gfxhome/asislam25/projects/other_misc_projects/video_copy/intermediate/keyframes/c09_20210228124351_C2 c09_20210228124351_C2\n",
      "hash already generated for  c01_20210130063213_C2\n",
      "hash already generated for  c01_20210202125721_C4\n",
      "/ddn/gfxhome/asislam25/projects/other_misc_projects/video_copy/intermediate/keyframes/c09_20210224010425_C1 c09_20210224010425_C1\n",
      "/ddn/gfxhome/asislam25/projects/other_misc_projects/video_copy/intermediate/keyframes/c09_20210228114527_C1 c09_20210228114527_C1\n",
      "hash already generated for  c01_20210130115216_C3\n",
      "/ddn/gfxhome/asislam25/projects/other_misc_projects/video_copy/intermediate/keyframes/c09_20210228095443_C1 c09_20210228095443_C1\n",
      "hash already generated for  c05_20210205081528_C1\n",
      "hash already generated for  c01_20210202195259_C1\n",
      "hash already generated for  c01_20210131125108_C2\n",
      "hash already generated for  c01_20210202083021_C1\n",
      "/ddn/gfxhome/asislam25/projects/other_misc_projects/video_copy/intermediate/keyframes/c09_20210222150519_C3 c09_20210222150519_C3\n",
      "/ddn/gfxhome/asislam25/projects/other_misc_projects/video_copy/intermediate/keyframes/c09_20210223175523_C3 c09_20210223175523_C3\n",
      "hash already generated for  c01_20210130124857_C2\n",
      "hash already generated for  c01_20210131125922_C2\n",
      "/ddn/gfxhome/asislam25/projects/other_misc_projects/video_copy/intermediate/keyframes/c09_20210226175156_C1 c09_20210226175156_C1\n",
      "/ddn/gfxhome/asislam25/projects/other_misc_projects/video_copy/intermediate/keyframes/c09_20210222140438_C2 c09_20210222140438_C2\n",
      "/ddn/gfxhome/asislam25/projects/other_misc_projects/video_copy/intermediate/keyframes/c09_20210221204951_C3 c09_20210221204951_C3\n",
      "/ddn/gfxhome/asislam25/projects/other_misc_projects/video_copy/intermediate/keyframes/c09_20210226230422_C2 c09_20210226230422_C2\n",
      "/ddn/gfxhome/asislam25/projects/other_misc_projects/video_copy/intermediate/keyframes/c09_20210223204726_C4 c09_20210223204726_C4\n",
      "/ddn/gfxhome/asislam25/projects/other_misc_projects/video_copy/intermediate/keyframes/c09_20210227224952_C4 c09_20210227224952_C4\n",
      "hash already generated for  c01_20210130195400_C4\n",
      "hash already generated for  c01_20210130081629_C3\n",
      "hash already generated for  c01_20210204062142_C4\n",
      "/ddn/gfxhome/asislam25/projects/other_misc_projects/video_copy/intermediate/keyframes/c09_20210227193611_C3 c09_20210227193611_C3\n",
      "/ddn/gfxhome/asislam25/projects/other_misc_projects/video_copy/intermediate/keyframes/c09_20210228171844_C2 c09_20210228171844_C2\n",
      "hash already generated for  c09_20210204140043_C4\n",
      "hash already generated for  c01_20210131194822_C3\n",
      "hash already generated for  c01_20210201082747_C1\n",
      "hash already generated for  c01_20210202062315_C1\n",
      "/ddn/gfxhome/asislam25/projects/other_misc_projects/video_copy/intermediate/keyframes/c09_20210228085036_C3 c09_20210228085036_C3\n",
      "/ddn/gfxhome/asislam25/projects/other_misc_projects/video_copy/intermediate/keyframes/c09_20210221125002_C2 c09_20210221125002_C2\n",
      "/ddn/gfxhome/asislam25/projects/other_misc_projects/video_copy/intermediate/keyframes/c09_20210221172350_C4 c09_20210221172350_C4\n",
      "hash already generated for  c01_20210130194220_C2\n"
     ]
    }
   ],
   "source": [
    "for archive_location_path in archive_locations:\n",
    "    arch_file_frames_list=os.listdir(archive_location_path)\n",
    "    file_name=archive_location_path.split(\"/\")[-1]\n",
    "    if file_name in dic_hash_vals:\n",
    "        print(\"hash already generated for \",file_name)\n",
    "        continue    \n",
    "    dic_hash_vals[file_name]={}\n",
    "#     print(archive_location_path,file_name,arch_file_frames_list)\n",
    "    print(archive_location_path,file_name)\n",
    "    for frame_name in arch_file_frames_list:\n",
    "        f=os.path.join(archive_location_path,frame_name)\n",
    "        hash_val=imagehash.phash(Image.open(f))\n",
    "#         print(f,hash_val)\n",
    "        dic_hash_vals[file_name][frame_name]=hash_val"
   ]
  },
  {
   "cell_type": "code",
   "execution_count": 10,
   "metadata": {},
   "outputs": [],
   "source": [
    "# intermediate_location=\"../intermediate/\"\n",
    "# if not os.path.isdir(intermediate_location):\n",
    "#     os.mkdir(intermediate_location)\n",
    "# hash_location=intermediate_location+\"hash_values/\"\n",
    "# if not os.path.isdir(hash_location):\n",
    "#     os.mkdir(resized_location)\n",
    "\n",
    "# hash_location=hash_location+\"phash/\"\n",
    "# if not os.path.isdir(hash_location):\n",
    "#     os.mkdir(resized_location)\n",
    "    \n",
    "# dic_location=hash_location+\"dic_vals.p\"    \n",
    "pickle.dump( dic_hash_vals, open( dic_location, \"wb\" ) )"
   ]
  },
  {
   "cell_type": "code",
   "execution_count": 11,
   "metadata": {},
   "outputs": [
    {
     "data": {
      "text/plain": [
       "80"
      ]
     },
     "execution_count": 11,
     "metadata": {},
     "output_type": "execute_result"
    }
   ],
   "source": [
    "len(dic_hash_vals.keys())"
   ]
  },
  {
   "cell_type": "code",
   "execution_count": null,
   "metadata": {},
   "outputs": [],
   "source": []
  }
 ],
 "metadata": {
  "kernelspec": {
   "display_name": "prune_kernel",
   "language": "python",
   "name": "prune_kernel"
  },
  "language_info": {
   "codemirror_mode": {
    "name": "ipython",
    "version": 3
   },
   "file_extension": ".py",
   "mimetype": "text/x-python",
   "name": "python",
   "nbconvert_exporter": "python",
   "pygments_lexer": "ipython3",
   "version": "3.8.11"
  }
 },
 "nbformat": 4,
 "nbformat_minor": 4
}
